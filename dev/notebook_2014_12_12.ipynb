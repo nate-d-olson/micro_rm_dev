{
 "cells": [
  {
   "cell_type": "markdown",
   "metadata": {},
   "source": [
    "### Testing out Pilon\n",
    "Objective: Test out using Pilon on the MiSeq and PGM data\n",
    "Approach: Running Pilon using bash commands, evaluate revise reference relative to HGAP and GenBank LT2"
   ]
  },
  {
   "cell_type": "markdown",
   "metadata": {},
   "source": [
    "#### Testing single paried end dataset"
   ]
  },
  {
   "cell_type": "code",
   "execution_count": 10,
   "metadata": {
    "collapsed": false
   },
   "outputs": [
    {
     "name": "stdout",
     "output_type": "stream",
     "text": [
      "Pilon version 1.10 Tue Nov 18 20:14:04 2014 -0500\n",
      "Genome: ../data/RM8375/ref/CFSAN008157.HGAP.fasta\n",
      "OpenJDK 64-Bit Server VM warning: INFO: os::commit_memory(0x00000007b2500000, 20447232, 0) failed; error='Cannot allocate memory' (errno=12)\n",
      "#\n",
      "# There is insufficient memory for the Java Runtime Environment to continue.\n",
      "# Native memory allocation (malloc) failed to allocate 20447232 bytes for committing reserved memory.\n",
      "# An error report file with more information is saved as:\n",
      "# /notebooks/dev/hs_err_pid246.log\n"
     ]
    }
   ],
   "source": [
    "%%bash\n",
    "java -Xmx4G -jar ../utilities/pilon-1.10.jar \\\n",
    "                --genome ../data/RM8375/ref/CFSAN008157.HGAP.fasta \\\n",
    "                --frags ../analysis/bioinf/sequence_purity/mapping/SRR1555296.bam \\\n",
    "                --changes --vcf --tracks \\\n",
    "                --fix \"all\" --debug #note --fix \"all\" default"
   ]
  },
  {
   "cell_type": "markdown",
   "metadata": {},
   "source": [
    "Error with head, needed to rerun bwa with revised params file"
   ]
  },
  {
   "cell_type": "markdown",
   "metadata": {},
   "source": [
    "Error with memory allocation, not sure if too many applicaitons running on laptop, or docker memory restrictions\n",
    "* re-running after closing windows and restarting finder (hung up on moving files to trash)\n",
    "* Need to look into changing amount of memory allocated to ipython notebook"
   ]
  },
  {
   "cell_type": "code",
   "execution_count": 12,
   "metadata": {
    "collapsed": false
   },
   "outputs": [],
   "source": [
    "%%bash \n",
    "python ../analysis/bioinf/sequence_purity/run_bwa_mem_pe.py \\\n",
    "        ../analysis/bioinf/sequence_purity/bwa_mem_pipeline_params.txt"
   ]
  },
  {
   "cell_type": "markdown",
   "metadata": {},
   "source": [
    "## Merging bams"
   ]
  },
  {
   "cell_type": "code",
   "execution_count": 5,
   "metadata": {
    "collapsed": false
   },
   "outputs": [],
   "source": [
    "At "
   ]
  },
  {
   "cell_type": "code",
   "execution_count": 6,
   "metadata": {
    "collapsed": true
   },
   "outputs": [],
   "source": [
    "%%bash\n",
    "ls ../data/RM8375/PGM/bam/*bam >HGAP.PGM.bams\n",
    "samtools merge -b HGAP.PGM.bams HGAP_PGM.bam\n",
    "samtools index HGAP_PGM.bam"
   ]
  }
 ],
 "metadata": {
  "kernelspec": {
   "display_name": "IPython (Python 3)",
   "name": "python3"
  },
  "language_info": {
   "codemirror_mode": {
    "name": "ipython",
    "version": 3
   },
   "file_extension": ".py",
   "mimetype": "text/x-python",
   "name": "python",
   "nbconvert_exporter": "python",
   "pygments_lexer": "ipython3"
  },
  "signature": "sha256:51f996a51e407fa2c8414fd84c0e6ea5e4e28bf0b647558b3bc5f5ea5da4ae0c"
 },
 "nbformat": 4,
 "nbformat_minor": 0
}