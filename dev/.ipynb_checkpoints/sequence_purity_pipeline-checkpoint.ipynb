{
 "cells": [
  {
   "cell_type": "markdown",
   "metadata": {},
   "source": [
    "## Pipeline base level sequence sequence analysis\n",
    "starting with bam files\n",
    "\n",
    "Process\n",
    "1. remove duplicates\n",
    "2. realign around indels\n",
    "3. samtools - forcing calls at all positions"
   ]
  },
  {
   "cell_type": "code",
   "execution_count": 1,
   "metadata": {
    "collapsed": false
   },
   "outputs": [],
   "source": [
    "import sys\n",
    "import os\n",
    "import time\n",
    "import subprocess\n",
    "from bwa_mem_pe import *"
   ]
  },
  {
   "cell_type": "code",
   "execution_count": 2,
   "metadata": {
    "collapsed": true
   },
   "outputs": [],
   "source": [
    "def bam_group_sort(in_bam, bam_root, out_dir):\n",
    "    ''' Sorting bam'''\n",
    "    print \"Sorting bam ...\"\n",
    "    \n",
    "    # prep files\n",
    "    log_file = open(out_dir + \"/bwa_group_sort\"+ time.strftime(\"-%Y-%m-%d-%H-%M-%S.log\"),'w')\n",
    "    stderr_file = open(out_dir + \"/bwa_group_sort\"+ time.strftime(\"-%Y-%m-%d-%H-%M-%S.stder\"),'w')\n",
    "    \n",
    "    # run command\n",
    "    bam_group_sort_command = [\"samtools\", \"sort\", \"-n\", \"-O\", \"bam\", \"-o\", bam_group_sort_file, \"-T\", out_dir, in_bam]\n",
    "    subprocess.call(bam_group_sort_command, stdout=log_file,stderr=stderr_file) \n",
    "    log_file.close(); stderr_file.close()"
   ]
  },
  {
   "cell_type": "code",
   "execution_count": 3,
   "metadata": {
    "collapsed": true
   },
   "outputs": [],
   "source": [
    "def bam_fixmate(in_bam,bam_fix,out_dir):\n",
    "    '''Fix mate pairs'''\n",
    "    print \"Fixing mate pairs ...\"\n",
    "    \n",
    "    ## log files for standard out and error\n",
    "    #out_file = open(bam_fix,'w')\n",
    "    log_file = open(out_dir + \"/bwa_fixmate\"+ time.strftime(\"-%Y-%m-%d-%H-%M-%S.log\"),'w')\n",
    "    stderr_file = open(out_dir + \"/bwa_fixmate\"+ time.strftime(\"-%Y-%m-%d-%H-%M-%S.stder\"),'w')\n",
    "    \n",
    "    # run command\n",
    "    fixmate_command = [\"samtools\",\"fixmate\",in_bam,bam_fix]\n",
    "    subprocess.call(fixmate_command, stderr=stderr_file, stdout=log_file)  \n",
    "    log_file.close(); stderr_file.close()"
   ]
  },
  {
   "cell_type": "code",
   "execution_count": 4,
   "metadata": {
    "collapsed": false
   },
   "outputs": [],
   "source": [
    "def bam_realign(in_bam, ref, intervals, bam_realign_file, out_dir):\n",
    "    ''' Indel relignment'''\n",
    "    print \"Realignment Around Indels ...\"\n",
    "    \n",
    "    # prep files\n",
    "    log_file = open(out_dir + \"/bwa_realign\"+ time.strftime(\"-%Y-%m-%d-%H-%M-%S.log\"),'w')\n",
    "    stderr_file = open(out_dir + \"/bwa_realign\"+ time.strftime(\"-%Y-%m-%d-%H-%M-%S.stder\"),'w')\n",
    "    \n",
    "    # run commands\n",
    "    GATK_command = [\"java\",\"-jar\",\"-Xmx2g\",\"/notebooks/utilities/GenomeAnalysisTK.jar\"]\n",
    "    realigner_target_command = GATK_command + [\"-T\",\"RealignerTargetCreator\", \"-R\",ref,\"-I\",in_bam, \"-o\", intervals]\n",
    "    subprocess.call(realigner_target_command,stdout=log_file,stderr=stderr_file)\n",
    "    \n",
    "    realigner_command = GATK_command + [\"-T\",\"IndelRealigner\", \"-R\", ref,\"-I\",in_bam,\n",
    "                                \"-targetIntervals\", intervals, \"-o\", bam_realign_file]\n",
    "    subprocess.call(realigner_command, stdout=log_file,stderr=stderr_file)\n",
    "    log_file.close(); stderr_file.close()"
   ]
  },
  {
   "cell_type": "code",
   "execution_count": 5,
   "metadata": {
    "collapsed": true
   },
   "outputs": [],
   "source": [
    "def bam_markdup(in_bam, bam_markdup_file, metrics_file, out_dir):\n",
    "    ''' Mark duplicates '''\n",
    "    print \"Marking Duplicates ...\"\n",
    "    \n",
    "    # prep files\n",
    "    log_file = open(out_dir + \"/bwa_markdup\"+ time.strftime(\"-%Y-%m-%d-%H-%M-%S.log\"),'w')\n",
    "    stderr_file = open(out_dir + \"/bwa_markdup\"+ time.strftime(\"-%Y-%m-%d-%H-%M-%S.stder\"),'w')\n",
    "    \n",
    "    # run command\n",
    "    markdup_command = [\"java\",\"-Xmx2g\",\"-jar\",\"/usr/local/bin/MarkDuplicates.jar\",\"VALIDATION_STRINGENCY=LENIENT\",\n",
    "                        (\"INPUT=%s\" % (in_bam)),(\"METRICS_FILE=%s\" % (metrics_file)),(\"OUTPUT=%s\" % (bam_markdup_file))]\n",
    "    subprocess.call(markdup_command, stdout=log_file,stderr=stderr_file)\n",
    "    log_file.close(); stderr_file.close()"
   ]
  },
  {
   "cell_type": "code",
   "execution_count": 6,
   "metadata": {
    "collapsed": true
   },
   "outputs": [],
   "source": [
    "def bam_merge(bam_list, bam_merged_file, outdir):\n",
    "    ''' Merge list of bams into a single bam file'''\n",
    "    print \"Merging bams\"\n",
    "    \n",
    "    # prep files\n",
    "    log_file = open(out_dir + \"/merge_bams\"+ time.strftime(\"-%Y-%m-%d-%H-%M-%S.log\"),'w')\n",
    "    stderr_file = open(out_dir + \"/merge_bams\"+ time.strftime(\"-%Y-%m-%d-%H-%M-%S.stder\"),'w')\n",
    "    \n",
    "    # run command\n",
    "    merge_bam_command = [\"samtools\",\"merge\", \"-b\", bam_list, merged_bam_file]\n",
    "    subprocess.call(merge_bam_command, stdout=log_file,stderr=stderr_file)\n",
    "    log_file.close(); stderr_file.close()"
   ]
  },
  {
   "cell_type": "code",
   "execution_count": 7,
   "metadata": {
    "collapsed": true
   },
   "outputs": [],
   "source": [
    "def genome_calls_mpileup(bams,ref, vcf_file, out_dir):\n",
    "    ''' Takes a list of bam files and refernece genome then\n",
    "        performs base level sequence analysis\n",
    "    '''\n",
    "    print \"Running mpileup ...\"\n",
    "    \n",
    "    # prep files\n",
    "    vcf_file = open(vcf_file,'w')\n",
    "    stderr_file = open(out_dir + \"/mpileup\"+ time.strftime(\"-%Y-%m-%d-%H-%M-%S.stder\"),'w')\n",
    "    \n",
    "    # run command\n",
    "    mpileup_command = [\"samtools\",\"mpileup\", \"-uv\", \"-t\", \"DP\", \"-t\", \"DV\",\n",
    "                     \"-t\", \"DPR\", \"-t\", \"SP\", \"-t\", \"DP4\",\"-f\", ref] + bams\n",
    "    subprocess.call(mpileup_command,stdout=vcf_file,stderr=stderr_file)\n",
    "    vcf_file.close(); stderr_file.close()"
   ]
  },
  {
   "cell_type": "code",
   "execution_count": 8,
   "metadata": {
    "collapsed": false
   },
   "outputs": [],
   "source": [
    "ref='/notebooks/utilities/resources/exampleFASTA.fasta'\n",
    "bam='/notebooks/utilities/resources/exampleBAM.bam'\n",
    "\n",
    "bam_split = bam.split(\"/\")[-1]\n",
    "ref_split = ref.split(\"/\")[-1]\n",
    "bam_root = ref_split.replace(\".fasta\",\"\") + \"_\" + bam_split.replace(\".bam\",\"\")\n",
    "bam_group_sort_file = bam_root + \"_group_sort.bam\"\n",
    "bam_sort_file = bam_root + \"_sort.bam\"\n",
    "bam_fix_file = bam_root + \"_fix.bam\"\n",
    "intervals = bam_root + \".intervals\"\n",
    "bam_realign_file = bam_root + \"_realign.bam\" \n",
    "bam_markdup_file = bam_root + \"_mrkdup.bam\"\n",
    "metrics_file = bam_root + \"_mrkdup.metrics\"\n",
    "vcf_file = bam_root + \".vcf\"\n",
    "\n",
    "out_dir='/notebooks/dev/genome_purity'\n",
    "%mkdir /notebooks/dev/genome_purity"
   ]
  },
  {
   "cell_type": "code",
   "execution_count": 9,
   "metadata": {
    "collapsed": false
   },
   "outputs": [
    {
     "name": "stdout",
     "output_type": "stream",
     "text": [
      "Sorting bam ...\n",
      "Fixing mate pairs ...\n",
      "Realignment Around Indels ...\n",
      "Marking Duplicates ...\n",
      "Running mpileup ...\n"
     ]
    }
   ],
   "source": [
    "bam_group_sort(bam, bam_group_sort_file, out_dir)\n",
    "bam_fixmate(bam_group_sort_file,bam_fix_file,out_dir)\n",
    "bam_sort(bam_fix_file,bam_sort_file, out_dir)\n",
    "bam_index(out_dir, bam_sort_file)\n",
    "bam_realign(bam_sort_file, ref,intervals, bam_realign_file, out_dir)\n",
    "bam_markdup(bam_realign_file, bam_markdup_file,metrics_file, out_dir)\n",
    "bam_index(out_dir,bam_markdup_file)\n",
    "\n",
    "## TODO\n",
    "# add merging bams and realign around indels for merged bams\n",
    "genome_calls_mpileup([bam_markdup_file],ref,vcf_file,out_dir)"
   ]
  },
  {
   "cell_type": "code",
   "execution_count": 8,
   "metadata": {
    "collapsed": false
   },
   "outputs": [
    {
     "name": "stdout",
     "output_type": "stream",
     "text": [
      "total 116K\r\n",
      "-rw------- 1 1000 staff 4.6K Dec 12  2014 bwa_mem_pe.ipynb\r\n",
      "-rw-r----- 1 1000 staff 2.7K Dec 12  2014 bwa_mem_pe.py\r\n",
      "-rw-r----- 1 1000 staff 2.5K Dec 12  2014 bwa_mem_pe.pyc\r\n",
      "-rw-rw-r-- 1 1000 staff  200 Dec 12  2014 bwa_mem_pipeline_params_test.txt\r\n",
      "-rw------- 1 1000 staff 5.2K Jan 12  2015 consensus_base_functions.ipynb\r\n",
      "-rw-r--r-- 1 1000 staff 3.7K Jan 12  2015 exampleFASTA_exampleBAM_fix.bam\r\n",
      "-rw-r--r-- 1 1000 staff 3.6K Jan 12  2015 exampleFASTA_exampleBAM_group_sort.bam\r\n",
      "-rw-r--r-- 1 1000 staff    0 Jan 12  2015 exampleFASTA_exampleBAM.intervals\r\n",
      "-rw-r--r-- 1 1000 staff 4.5K Jan 12  2015 exampleFASTA_exampleBAM_mrkdup.bam\r\n",
      "-rw-r--r-- 1 1000 staff  232 Jan 12  2015 exampleFASTA_exampleBAM_mrkdup.bam.bai\r\n",
      "-rw-r--r-- 1 1000 staff 1.1K Jan 12  2015 exampleFASTA_exampleBAM_mrkdup.metrics\r\n",
      "-rw-r--r-- 1 1000 staff  232 Jan 12  2015 exampleFASTA_exampleBAM_realign.bai\r\n",
      "-rw-r--r-- 1 1000 staff 4.1K Jan 12  2015 exampleFASTA_exampleBAM_realign.bam\r\n",
      "-rw-r--r-- 1 1000 staff 3.7K Jan 12  2015 exampleFASTA_exampleBAM_sort.bam\r\n",
      "-rw-r--r-- 1 1000 staff  232 Jan 12  2015 exampleFASTA_exampleBAM_sort.bam.bai\r\n",
      "drwxr-xr-x 1 1000 staff  510 Jan 12  2015 \u001b[0m\u001b[01;34mgenome_purity\u001b[0m/\r\n",
      "-rw-r--r-- 1 1000 staff 4.4K Nov 22 19:59 notebook_2014_11_14.ipynb\r\n",
      "-rwxr-xr-x 1 1000 staff 1.2K Nov 22 19:59 \u001b[01;32mnotebook_2014_11_16.ipynb\u001b[0m*\r\n",
      "-rw------- 1 1000 staff 3.5K Jan  9  2015 notebook_2014_12_12.ipynb\r\n",
      "drwxr-xr-x 1 1000 staff  102 Nov 22 19:59 \u001b[01;34mold_scripts\u001b[0m/\r\n",
      "drwxr-xr-x 1 1000 staff  102 Dec 12  2014 \u001b[01;34m__pycache__\u001b[0m/\r\n",
      "-rw------- 1 1000 staff 6.3K Dec 12  2014 run_bwa_mem_pe.ipynb\r\n",
      "-rw------- 1 1000 staff  969 Jan 12  2015 run_consensus_base_pipeline.ipynb\r\n",
      "-rw-r--r-- 1 1000 staff  13K Jan 12  2015 sequence_purity_pipeline.ipynb\r\n"
     ]
    }
   ],
   "source": [
    "ls -lh"
   ]
  },
  {
   "cell_type": "code",
   "execution_count": 17,
   "metadata": {
    "collapsed": false
   },
   "outputs": [],
   "source": [
    "rm -r example* genome_purity"
   ]
  },
  {
   "cell_type": "code",
   "execution_count": 5,
   "metadata": {
    "collapsed": false
   },
   "outputs": [],
   "source": [
    "def prep_bam_for_variant_calling(bam, ref, known_vcf):\n",
    "    ''' Function for generating variant calls from bam files, \n",
    "        adapted from  \n",
    "        http://www.htslib.org/workflow/#mapping_to_variant\n",
    "    '''\n",
    "    import subprocess\n",
    "    bam_split = bam.split(\"/\")[-1]\n",
    "    ref_split = ref.split(\"/\")[-1]\n",
    "    bam_root = ref_split.replace(\".fasta\",\"\") + \"_\" + bam_split.replace(\".bam\",\"\")\n",
    "    \n",
    "    ##%%## Need to work out logging code\n",
    "    log_file = open(bam_root + \".log\",'w')\n",
    "    log_file.write(\"Fix mate pairs for: %s\" % (bam))\n"
   ]
  },
  {
   "cell_type": "code",
   "execution_count": 6,
   "metadata": {
    "collapsed": false
   },
   "outputs": [],
   "source": [
    "def main():\n",
    "    ref=sys.argv[1]\n",
    "    known_vcf=sys.argv[2]\n",
    "    vcf_filename=sys.argv[3]\n",
    "    # processing multiple bams\n",
    "    processed_bams = []\n",
    "    for i in sys.argv[4:]:\n",
    "        processed_bams.append(prep_bam_for_variant_calling(i, ref,known_vcf))\n",
    "    genome_calls_mpileup(processed_bams,ref, vcf_filename)\n",
    "# Need to check also incorporate command line parsing\n",
    "# def __main__ if name == \"\":\n",
    "#     main()"
   ]
  },
  {
   "cell_type": "markdown",
   "metadata": {},
   "source": [
    "## Old functions"
   ]
  },
  {
   "cell_type": "code",
   "execution_count": 2,
   "metadata": {
    "collapsed": true
   },
   "outputs": [],
   "source": [
    "def log_stderr_files(out_dir,command):\n",
    "    ''' Create log and standard error files'''\n",
    "    log_file = open(out_dir + command + time.strftime(\"-%Y-%m-%d-%H-%M-%S.log\"),'w')\n",
    "    err_file = open(out_dir + command + time.strftime(\"-%Y-%m-%d-%H-%M-%S.err\"),'w')\n",
    "    \n",
    "    return [log_file,err_file]"
   ]
  }
 ],
 "metadata": {
  "kernelspec": {
   "display_name": "IPython (Python 2)",
   "name": "python2"
  },
  "language_info": {
   "codemirror_mode": {
    "name": "ipython",
    "version": 2
   },
   "file_extension": ".py",
   "mimetype": "text/x-python",
   "name": "python",
   "nbconvert_exporter": "python",
   "pygments_lexer": "ipython2"
  },
  "signature": "sha256:011f9d275cad6719c843304186e8c6e8f617cb7008a56c42e4934a218888500a"
 },
 "nbformat": 4,
 "nbformat_minor": 0
}