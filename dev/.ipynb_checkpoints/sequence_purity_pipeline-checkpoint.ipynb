{
 "cells": [
  {
   "cell_type": "markdown",
   "metadata": {},
   "source": [
    "## Pipeline base level sequence sequence analysis\n",
    "starting with bam files\n",
    "\n",
    "Process\n",
    "1. remove duplicates\n",
    "2. realign around indels\n",
    "3. samtools - forcing calls at all positions"
   ]
  },
  {
   "cell_type": "code",
   "execution_count": 1,
   "metadata": {
    "collapsed": false
   },
   "outputs": [],
   "source": [
    "import sys\n",
    "import os\n",
    "import time\n",
    "import subprocess"
   ]
  },
  {
   "cell_type": "code",
   "execution_count": 2,
   "metadata": {
    "collapsed": true
   },
   "outputs": [],
   "source": [
    "def log_stderr_files(out_dir,command):\n",
    "    ''' Create log and standard error files'''\n",
    "    log_file = open(out_dir + command + time.strftime(\"-%Y-%m-%d-%H-%M-%S.log\"),'w')\n",
    "    err_file = open(out_dir + command + time.strftime(\"-%Y-%m-%d-%H-%M-%S.err\"),'w')\n",
    "    \n",
    "    return [log_file,err_file]"
   ]
  },
  {
   "cell_type": "code",
   "execution_count": 3,
   "metadata": {
    "collapsed": true
   },
   "outputs": [],
   "source": [
    "ref='/notebooks/utilities/resources/exampleFASTA.fasta'\n",
    "bam='/notebooks/utilities/resources/exampleBAM.bam'\n",
    "\n",
    "bam_split = bam.split(\"/\")[-1]\n",
    "ref_split = ref.split(\"/\")[-1]\n",
    "bam_root = ref_split.replace(\".fasta\",\"\") + \"_\" + bam_split.replace(\".bam\",\"\")\n",
    "\n",
    "out_dir='/notebooks/dev/genome_purity/'"
   ]
  },
  {
   "cell_type": "code",
   "execution_count": 4,
   "metadata": {
    "collapsed": true
   },
   "outputs": [],
   "source": [
    "def bam_group_sort(bam, bam_root, out_dir):\n",
    "    ''' Sorting bam'''\n",
    "    print \"Sorting bam ...\"\n",
    "    \n",
    "    # prep files\n",
    "    bam_sort = out_dir + \"/tmp/\" + bam_root + \".group_sort.bam\"\n",
    "    log_file,stderr_file = log_stderr_files(out_dir,\"sort\")\n",
    "    \n",
    "    # run command\n",
    "    subprocess.call([\"samtools\", \"sort\", \"-n\", \"-O\", \"bam\", \"-o\", bam_sort, \"-T\", out_dir+\"tmp/sort\",bam], stdout=log_file,stderr=stderr_file) \n",
    "    log_file.close(); stderr_file.close()"
   ]
  },
  {
   "cell_type": "code",
   "execution_count": 5,
   "metadata": {
    "collapsed": true
   },
   "outputs": [],
   "source": [
    "def bam_fixmate(bam,bam_root,out_dir):\n",
    "    '''Fix mate pairs'''\n",
    "    print \"Fixing mate pairs ...\"\n",
    "    \n",
    "    # prep files\n",
    "    bam_fix = out_dir + \"/tmp/\" + bam_root + \".fix.bam\"\n",
    "    log_file,stderr_file = log_stderr_files(out_dir,\"fixmate\")\n",
    "    \n",
    "    # run command\n",
    "    fixmate_command = [\"samtools\",\"fixmate\",bam,bam_fix]\n",
    "    subprocess.call(fixmate_command, stdout=log_file, stderr=stderr_file)   \n",
    "    log_file.close(); stderr_file.close()"
   ]
  },
  {
   "cell_type": "code",
   "execution_count": 6,
   "metadata": {
    "collapsed": true
   },
   "outputs": [],
   "source": [
    "def bam_sort(bam, bam_root, out_dir):\n",
    "    ''' Sorting bam'''\n",
    "    print \"Sorting bam ...\"\n",
    "    \n",
    "    # prep files\n",
    "    bam_sort = out_dir + \"/tmp/\" + bam_root + \".sort.bam\"\n",
    "    log_file,stderr_file = log_stderr_files(out_dir,\"sort\")\n",
    "    \n",
    "    # run command\n",
    "    subprocess.call([\"samtools\", \"sort\", \"-O\", \"bam\", \"-o\", bam_sort, \"-T\", out_dir+\"tmp/sort\",bam], stdout=log_file,stderr=stderr_file) \n",
    "    log_file.close(); stderr_file.close()"
   ]
  },
  {
   "cell_type": "code",
   "execution_count": 7,
   "metadata": {
    "collapsed": true
   },
   "outputs": [],
   "source": [
    "def bam_index(out_dir, bam):\n",
    "    ''' index bam file'''\n",
    "    print \"Indexing bam ...\"\n",
    "    log_file,stderr_file = log_stderr_files(out_dir,\"index\")\n",
    "    \n",
    "    subprocess.call([\"samtools\",\"index\",bam],stdout=log_file,stderr=stderr_file)\n",
    "    log_file.close(); stderr_file.close()"
   ]
  },
  {
   "cell_type": "code",
   "execution_count": 8,
   "metadata": {
    "collapsed": true
   },
   "outputs": [],
   "source": [
    "def bam_realign(bam, ref, bam_root, out_dir):\n",
    "    ''' Indel relignment'''\n",
    "    print \"Realignment Around Indels ...\"\n",
    "    \n",
    "    # prep files\n",
    "    intervals = out_dir + \"tmp/\" + bam_root + \".intervals\"\n",
    "    bam_realign = out_dir + \"tmp/\" + bam_root + \".realign.bam\"  \n",
    "    log_file,stderr_file = log_stderr_files(out_dir,\"realign\")\n",
    "    \n",
    "    # run commands\n",
    "    GATK_command = [\"java\",\"-jar\",\"-Xmx4g\",\"/notebooks/utilities/GenomeAnalysisTK.jar\"]\n",
    "    realigner_target_command = GATK_command + [\"-T\",\"RealignerTargetCreator\", \"-R\",ref,\"-I\",bam, \"-o\", intervals]\n",
    "    subprocess.call(realigner_target_command,stdout=log_file,stderr=stderr_file)\n",
    "    \n",
    "    realigner_command = GATK_command + [\"-T\",\"IndelRealigner\", \"-R\", ref,\"-I\",bam,\n",
    "                                \"-targetIntervals\", intervals, \"-o\", bam_realign]\n",
    "    subprocess.call(realigner_command, stdout=log_file,stderr=stderr_file)\n",
    "    log_file.close(); stderr_file.close()"
   ]
  },
  {
   "cell_type": "code",
   "execution_count": 9,
   "metadata": {
    "collapsed": true
   },
   "outputs": [],
   "source": [
    "def bam_markdup(bam, bam_root, out_dir):\n",
    "    ''' Mark duplicates '''\n",
    "    print \"Marking Duplicates ...\"\n",
    "    \n",
    "    # prep files\n",
    "    bam_mark_dup = out_dir + \"tmp/\" + bam_root + \".mrkdup.bam\"\n",
    "    metrics_file = out_dir + \"tmp/\" + bam_root + \".mrkdup.metrics\"\n",
    "    log_file,stderr_file = log_stderr_files(out_dir,\"mrkdup\")\n",
    "    \n",
    "    # run command\n",
    "    mark_dup_command = [\"java\",\"-Xmx4g\",\"-jar\",\"/usr/local/bin/MarkDuplicates.jar\",\"VALIDATION_STRINGENCY=LENIENT\",\n",
    "                        (\"INPUT=%s\" % (bam)),(\"METRICS_FILE=%s\" % (metrics_file)),(\"OUTPUT=%s\" % (bam_mark_dup))]\n",
    "    subprocess.call(mark_dup_command, stdout=log_file,stderr=stderr_file)\n",
    "    log_file.close(); stderr_file.close()"
   ]
  },
  {
   "cell_type": "code",
   "execution_count": 10,
   "metadata": {
    "collapsed": true
   },
   "outputs": [],
   "source": [
    "def genome_calls_mpileup(bams,ref, bam_root, out_dir):\n",
    "    ''' Takes a list of bam files and refernece genome then\n",
    "        performs base level sequence analysis\n",
    "    '''\n",
    "    print \"Running mpileup ...\"\n",
    "    # prep files\n",
    "    log_file,stderr_file = log_stderr_files(out_dir,\"mpileup\")\n",
    "    vcf_filename = open(out_dir + \"tmp/\" + bam_root + \".vcf\",'w') \n",
    "    \n",
    "    # run command\n",
    "    mpileup_command = [\"samtools\",\"mpileup\", \"-uvf\", \"-t\", \"DP\", \"-t\", \"DV\",\n",
    "                     \"-t\", \"DPR\", \"-t\", \"SP\", \"-t\", \"DP4\",\"-f\", ref] + bams\n",
    "    subprocess.call(mpileup_command,stdout=vcf_filename,stderr=stderr_file)\n",
    "    log_file.close(); stderr_file.close()"
   ]
  },
  {
   "cell_type": "code",
   "execution_count": 11,
   "metadata": {
    "collapsed": false
   },
   "outputs": [
    {
     "name": "stdout",
     "output_type": "stream",
     "text": [
      "Sorting bam ...\n",
      "Fixing mate pairs ...\n",
      "Sorting bam ...\n",
      "Indexing bam ...\n",
      "Realignment Around Indels ...\n",
      "Indexing bam ...\n",
      "Marking Duplicates ...\n",
      "Indexing bam ...\n",
      "Running mpileup ...\n"
     ]
    }
   ],
   "source": [
    "bam_group_sort(bam, bam_root, out_dir)\n",
    "\n",
    "bam_group_sort_file = out_dir + \"/tmp/\" + bam_root + \".group_sort.bam\"\n",
    "bam_fixmate(bam_group_sort_file,bam_root,out_dir)\n",
    "\n",
    "\n",
    "bam_fixmate_file = out_dir + \"/tmp/\" + bam_root + \".fix.bam\"\n",
    "bam_sort(bam_fixmate_file, bam_root, out_dir)\n",
    "\n",
    "bam_sort_file = out_dir + \"/tmp/\" + bam_root + \".sort.bam\"\n",
    "bam_index(out_dir, bam_sort_file)\n",
    "\n",
    "bam_realign(bam_sort_file, ref, bam_root, out_dir)\n",
    "\n",
    "bam_realign_file = out_dir + \"/tmp/\" + bam_root + \".realign.bam\"\n",
    "bam_index(out_dir, bam_realign_file)\n",
    "bam_markdup(bam_realign_file, bam_root,out_dir)\n",
    "\n",
    "\n",
    "bam_mark_dup_file = out_dir + \"tmp/\" + bam_root + \".mrkdup.bam\"\n",
    "bam_index(out_dir,bam_mark_dup_file)\n",
    "genome_calls_mpileup(bam_mark_dup_file,ref,bam_root,out_dir)"
   ]
  },
  {
   "cell_type": "code",
   "execution_count": 5,
   "metadata": {
    "collapsed": false
   },
   "outputs": [],
   "source": [
    "def prep_bam_for_variant_calling(bam, ref, known_vcf):\n",
    "    ''' Function for generating variant calls from bam files, \n",
    "        adapted from  \n",
    "        http://www.htslib.org/workflow/#mapping_to_variant\n",
    "    '''\n",
    "    import subprocess\n",
    "    bam_split = bam.split(\"/\")[-1]\n",
    "    ref_split = ref.split(\"/\")[-1]\n",
    "    bam_root = ref_split.replace(\".fasta\",\"\") + \"_\" + bam_split.replace(\".bam\",\"\")\n",
    "    \n",
    "    ##%%## Need to work out logging code\n",
    "    log_file = open(bam_root + \".log\",'w')\n",
    "    log_file.write(\"Fix mate pairs for: %s\" % (bam))\n"
   ]
  },
  {
   "cell_type": "code",
   "execution_count": null,
   "metadata": {
    "collapsed": true
   },
   "outputs": [],
   "source": []
  },
  {
   "cell_type": "code",
   "execution_count": 6,
   "metadata": {
    "collapsed": false
   },
   "outputs": [],
   "source": [
    "def main():\n",
    "    ref=sys.argv[1]\n",
    "    known_vcf=sys.argv[2]\n",
    "    vcf_filename=sys.argv[3]\n",
    "    # processing multiple bams\n",
    "    processed_bams = []\n",
    "    for i in sys.argv[4:]:\n",
    "        processed_bams.append(prep_bam_for_variant_calling(i, ref,known_vcf))\n",
    "    genome_calls_mpileup(processed_bams,ref, vcf_filename)\n",
    "# Need to check also incorporate command line parsing\n",
    "# def __main__ if name == \"\":\n",
    "#     main()"
   ]
  }
 ],
 "metadata": {
  "kernelspec": {
   "display_name": "IPython (Python 2)",
   "name": "python2"
  },
  "language_info": {
   "codemirror_mode": {
    "name": "ipython",
    "version": 2
   },
   "file_extension": ".py",
   "mimetype": "text/x-python",
   "name": "python",
   "nbconvert_exporter": "python",
   "pygments_lexer": "ipython2"
  },
  "signature": "sha256:0b7f15dca7c5dd3f1a492fcbb639f04faaab07af7550f7b825a5fcb6530a7295"
 },
 "nbformat": 4,
 "nbformat_minor": 0
}