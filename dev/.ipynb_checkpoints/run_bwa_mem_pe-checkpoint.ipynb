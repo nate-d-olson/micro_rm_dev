{
 "cells": [
  {
   "cell_type": "markdown",
   "metadata": {},
   "source": [
    "## Mapping MiSeq Paired End Reads Using bwa"
   ]
  },
  {
   "cell_type": "code",
   "execution_count": 1,
   "metadata": {
    "collapsed": true
   },
   "outputs": [],
   "source": [
    "import sys\n",
    "import re\n",
    "import subprocess\n",
    "from bwa_mem_pe import *"
   ]
  },
  {
   "cell_type": "code",
   "execution_count": 2,
   "metadata": {
    "collapsed": false
   },
   "outputs": [],
   "source": [
    "def define_run_params(run_info,parameters):\n",
    "    # hash for storing run specific information\n",
    "    from collections import defaultdict\n",
    "    \n",
    "    run_params = defaultdict(str)\n",
    "    \n",
    "    run_info_list = run_info.split(\":\")\n",
    "    run_params['plat'] = run_info_list[1]\n",
    "    run_params['run_id'] = run_info_list[0]\n",
    "    run_params['vial'] = run_info_list[2]\n",
    "    run_params['rep'] = run_info_list[3]\n",
    "    \n",
    "    fastq_root = parameters['root_dir'] + parameters['fastq_dir'] + \\\n",
    "                                   run_info_list[1] + '/'+ 'fastq'+'/'\n",
    "    if run_info_list[1] == \"MiSeq\":\n",
    "        run_params['fastq1'] = fastq_root + run_info_list[0] + \"_1.fastq\"\n",
    "        run_params['fastq2'] = fastq_root + run_info_list[0] + \"_2.fastq\"\n",
    "    else:\n",
    "        run_params['fastq1'] = fastq_root + run_info_list[0] + \".fastq\"\n",
    "        run_params['fastq2'] = None\n",
    "        \n",
    "    run_params['out_dir'] = parameters['root_dir'] + parameters['analysis_out_dir']\n",
    "    run_params['sam'] = run_params['out_dir'] + \"/tmp/\" + run_params['run_id'] + \".sam\"\n",
    "    run_params['bam'] = run_params['out_dir'] + \"/tmp/\" + run_params['run_id'] + \".bam\"\n",
    "    run_params['sorted_bam'] = run_params['out_dir'] + \"/\"+ run_params['run_id'] + \".bam\"\n",
    "    run_params['read_group'] = \"@RG\\tID:%s\\tCN:%s\\tLB:%s\\tPL:%s\\tSM:%s\" %(run_params['run_id'],\n",
    "                                                                          parameters['center'],\n",
    "                                                                          run_params['vial']+\"-\"+run_params['rep'],\n",
    "                                                                          run_params['plat'],\n",
    "                                                                          run_params['run_id'])\n",
    "    return run_params"
   ]
  },
  {
   "cell_type": "code",
   "execution_count": 3,
   "metadata": {
    "collapsed": false
   },
   "outputs": [],
   "source": [
    "def run_bwa_mem_pipeline(run_params,bwa_params):\n",
    "    \n",
    "    ## creating file with run parameters\n",
    "    run_log_file = open(run_params['out_dir']+\"/\" + run_params['run_id'] +\"-run_parameters.txt\", 'w')\n",
    "    run_log_file.write(\"Parameter\\tValue\\n\")\n",
    "    for i in run_params.keys():\n",
    "        run_log_file.write(\"%s\\t%s\\n\" % (i, run_params[i]))\n",
    "    for i in bwa_params.keys():\n",
    "        run_log_file.write(\"%s\\t%s\\n\" % (i, bwa_params[i]))\n",
    "    run_log_file.close()\n",
    "    \n",
    "    ## running bwa_mem\n",
    "    bam_map_bwa_mem(ref = bwa_params['root_dir'] + bwa_params['ref'],\n",
    "                        fq1 = run_params['fastq1'],\n",
    "                        fq2 =run_params['fastq2'],\n",
    "                        out_sam = run_params['sam'],\n",
    "                        out_dir = run_params['out_dir'],\n",
    "                        read_group = run_params['read_group'])\n",
    "    sam_to_bam(in_sam = run_params['sam'], \n",
    "                     out_bam = run_params['bam'], \n",
    "                     out_dir = run_params['out_dir'])\n",
    "    bam_sort(in_bam = run_params['bam'],\n",
    "                 out_sort = run_params['sorted_bam'],\n",
    "                 out_dir = run_params['out_dir'])\n",
    "    bam_index(out_dir = run_params['out_dir'], bam = run_params['sorted_bam'])"
   ]
  },
  {
   "cell_type": "code",
   "execution_count": 4,
   "metadata": {
    "collapsed": true
   },
   "outputs": [],
   "source": [
    "def read_dat(filename):\n",
    "    #process input file with configuration information\n",
    "    from collections import defaultdict\n",
    "    \n",
    "    parameters = defaultdict(str)\n",
    "    with open(filename,'r') as f:\n",
    "        for line in f:\n",
    "            param = line.strip().split(\"=\")\n",
    "            parameters[param[0]] = param[1]\n",
    "    return parameters"
   ]
  },
  {
   "cell_type": "code",
   "execution_count": 5,
   "metadata": {
    "collapsed": true
   },
   "outputs": [],
   "source": [
    "def main(filename):\n",
    "    #read run parameters from input file and process using pathoscope\n",
    "    parameters = read_dat(filename)\n",
    "    \n",
    "    # creating temp directory\n",
    "    subprocess.call(['mkdir','-p',parameters['root_dir']+ parameters['analysis_out_dir']+\"/tmp/\"])\n",
    "    \n",
    "    # indexing reference\n",
    "    bwa_index_ref(parameters['root_dir'] + parameters['ref'],parameters['root_dir']+parameters['analysis_out_dir'])\n",
    "    \n",
    "    for i in parameters['datasets'].split(\",\"):\n",
    "        run_params = define_run_params(i,parameters)\n",
    "        run_bwa_mem_pipeline(run_params, parameters)"
   ]
  },
  {
   "cell_type": "code",
   "execution_count": 7,
   "metadata": {
    "collapsed": false
   },
   "outputs": [],
   "source": [
    "main(\"bwa_mem_pipeline_params_test.txt\")"
   ]
  },
  {
   "cell_type": "code",
   "execution_count": null,
   "metadata": {
    "collapsed": true
   },
   "outputs": [],
   "source": [
    "if __name__ == '__main__':\n",
    "    main(sys.argv[1])"
   ]
  }
 ],
 "metadata": {
  "kernelspec": {
   "display_name": "IPython (Python 2)",
   "name": "python2"
  },
  "language_info": {
   "codemirror_mode": {
    "name": "ipython",
    "version": 2
   },
   "file_extension": ".py",
   "mimetype": "text/x-python",
   "name": "python",
   "nbconvert_exporter": "python",
   "pygments_lexer": "ipython2"
  },
  "signature": "sha256:321e33c1480ee93226573f7867cf845d877a73d9a890f0672fc339160709690f"
 },
 "nbformat": 4,
 "nbformat_minor": 0
}