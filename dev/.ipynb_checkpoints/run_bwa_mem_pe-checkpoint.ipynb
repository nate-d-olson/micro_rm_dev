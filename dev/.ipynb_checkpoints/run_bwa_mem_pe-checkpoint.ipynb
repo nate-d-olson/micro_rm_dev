{
 "cells": [
  {
   "cell_type": "markdown",
   "metadata": {},
   "source": [
    "## Mapping MiSeq Paired End Reads Using bwa"
   ]
  },
  {
   "cell_type": "code",
   "execution_count": 1,
   "metadata": {
    "collapsed": true
   },
   "outputs": [],
   "source": [
    "import sys\n",
    "import re\n",
    "import subprocess\n",
    "from bwa_mem_pe import *"
   ]
  },
  {
   "cell_type": "code",
   "execution_count": 23,
   "metadata": {
    "collapsed": false
   },
   "outputs": [],
   "source": [
    "def define_run_params(run_info,parameters):\n",
    "    # hash for storing run specific information\n",
    "    from collections import defaultdict\n",
    "    \n",
    "    run_params = defaultdict(str)\n",
    "    \n",
    "    run_info_list = run_info.split(\":\")\n",
    "    run_params['plat'] = run_info_list[1]\n",
    "    run_params['run_id'] = run_info_list[0]\n",
    "    run_params['vial'] = run_info_list[2]\n",
    "    run_params['rep'] = run_info_list[3]\n",
    "    \n",
    "    fastq_root = parameters['root_dir'] + parameters['fastq_dir'] + \\\n",
    "                                   run_info_list[1] + '/'+ 'fastq'+'/'\n",
    "    if run_info_list[1] == \"MiSeq\":\n",
    "        run_params['fastq1'] = fastq_root + run_info_list[0] + \"_1.fastq\"\n",
    "        run_params['fastq2'] = fastq_root + run_info_list[0] + \"_2.fastq\"\n",
    "    else:\n",
    "        run_params['fastq1'] = fastq_root + run_info_list[0] + \".fastq\"\n",
    "        run_params['fastq2'] = None\n",
    "        \n",
    "    run_params['out_dir'] = parameters['root_dir'] + parameters['analysis_out_dir']\n",
    "    run_params['sam'] = run_params['out_dir'] + \"/tmp/\" + run_params['run_id'] + \".sam\"\n",
    "    run_params['bam'] = run_params['out_dir'] + \"/tmp/\" + run_params['run_id'] + \".bam\"\n",
    "    run_params['sorted_bam'] = run_params['out_dir'] + run_params['run_id'] + \".bam\"\n",
    "    run_params['read_group'] = \"@RG\\tID:%s\\tCN:%s\\tLB:%s\\tPL:%s\\tSM:%s\" %(run_params['run_id'],\n",
    "                                                                          parameters['center'],\n",
    "                                                                          run_params['vial']+\"-\"+run_params['rep'],\n",
    "                                                                          run_params['plat'],\n",
    "                                                                          run_params['run_id'])\n",
    "    return run_params"
   ]
  },
  {
   "cell_type": "code",
   "execution_count": 31,
   "metadata": {
    "collapsed": false
   },
   "outputs": [],
   "source": [
    "def run_bwa_mem_pipeline(run_params,bwa_params):\n",
    "    \n",
    "    ## creating file with run parameters\n",
    "    run_log_file = open(run_params['out_dir']+\"/\" + run_params['run_id'] +\"-run_parameters.txt\", 'w')\n",
    "    run_log_file.write(\"Parameter\\tValue\\n\")\n",
    "    for i in run_params.keys():\n",
    "        run_log_file.write(\"%s\\t%s\\n\" % (i, run_params[i]))\n",
    "    for i in bwa_params.keys():\n",
    "        run_log_file.write(\"%s\\t%s\\n\" % (i, bwa_params[i]))\n",
    "    run_log_file.close()\n",
    "    \n",
    "    ## running bwa_mem\n",
    "    bam_map_bwa_mem(ref = bwa_params['root_dir'] + bwa_params['ref'],\n",
    "                        fq1 = run_params['fastq1'],\n",
    "                        fq2 =run_params['fastq2'],\n",
    "                        out_sam = run_params['sam'],\n",
    "                        out_dir = run_params['out_dir'],\n",
    "                        read_group = run_params['read_group'])\n",
    "    sam_to_bam(in_sam = run_params['sam'], \n",
    "                     out_bam = run_params['bam'], \n",
    "                     out_dir = run_params['out_dir'])\n",
    "    bam_sort(in_bam = run_params['bam'],\n",
    "                 out_sort = run_params['sorted_bam'],\n",
    "                 out_dir = run_params['out_dir'])\n",
    "    bam_index(out_dir = run_params['out_dir'], bam = run_params['sorted_bam'])"
   ]
  },
  {
   "cell_type": "code",
   "execution_count": 12,
   "metadata": {
    "collapsed": true
   },
   "outputs": [],
   "source": [
    "def read_dat(filename):\n",
    "    #process input file with configuration information\n",
    "    from collections import defaultdict\n",
    "    \n",
    "    parameters = defaultdict(str)\n",
    "    with open(filename,'r') as f:\n",
    "        for line in f:\n",
    "            param = line.strip().split(\"=\")\n",
    "            parameters[param[0]] = param[1]\n",
    "    return parameters"
   ]
  },
  {
   "cell_type": "code",
   "execution_count": 34,
   "metadata": {
    "collapsed": true
   },
   "outputs": [],
   "source": [
    "def main(filename):\n",
    "    #read run parameters from input file and process using pathoscope\n",
    "    parameters = read_dat(filename)\n",
    "    \n",
    "    # creating temp directory\n",
    "    subprocess.call(['mkdir','-p',parameters['root_dir']+ parameters['analysis_out_dir']+\"/tmp/\"])\n",
    "    \n",
    "    # indexing reference\n",
    "    bwa_index_ref(parameters['ref'],parameters['root_dir']+parameters['analysis_out_dir'])\n",
    "    \n",
    "    for i in parameters['datasets'].split(\",\"):\n",
    "        run_params = define_run_params(i,parameters)\n",
    "        run_bwa_mem_pipeline(run_params, parameters)"
   ]
  },
  {
   "cell_type": "code",
   "execution_count": 35,
   "metadata": {
    "collapsed": false
   },
   "outputs": [],
   "source": [
    "main(\"bwa_mem_pipeline_params_test.txt\")"
   ]
  },
  {
   "cell_type": "code",
   "execution_count": null,
   "metadata": {
    "collapsed": true
   },
   "outputs": [],
   "source": [
    "if __name__ == '__main__':\n",
    "    main(sys.argv[1])"
   ]
  },
  {
   "cell_type": "code",
   "execution_count": 14,
   "metadata": {
    "collapsed": false
   },
   "outputs": [
    {
     "name": "stdout",
     "output_type": "stream",
     "text": [
      "\u001b[0m\u001b[01;32mCFSAN008157.HGAP.fasta\u001b[0m*     CFSAN008157.HGAP.fasta.bwt\r\n",
      "CFSAN008157.HGAP.fasta.amb  CFSAN008157.HGAP.fasta.pac\r\n",
      "CFSAN008157.HGAP.fasta.ann  CFSAN008157.HGAP.fasta.sa\r\n"
     ]
    }
   ],
   "source": [
    "ls ../data/RM8375/ref/"
   ]
  },
  {
   "cell_type": "code",
   "execution_count": 20,
   "metadata": {
    "collapsed": false
   },
   "outputs": [
    {
     "name": "stdout",
     "output_type": "stream",
     "text": [
      "Usage: mkdir [OPTION]... DIRECTORY...\n",
      "Create the DIRECTORY(ies), if they do not already exist.\n",
      "\n",
      "Mandatory arguments to long options are mandatory for short options too.\n",
      "  -m, --mode=MODE   set file mode (as in chmod), not a=rwx - umask\n",
      "  -p, --parents     no error if existing, make parent directories as needed\n",
      "  -v, --verbose     print a message for each created directory\n",
      "  -Z, --context=CTX  set the SELinux security context of each created\n",
      "                      directory to CTX\n",
      "      --help     display this help and exit\n",
      "      --version  output version information and exit\n",
      "\n",
      "Report mkdir bugs to bug-coreutils@gnu.org\n",
      "GNU coreutils home page: <http://www.gnu.org/software/coreutils/>\n",
      "General help using GNU software: <http://www.gnu.org/gethelp/>\n",
      "For complete documentation, run: info coreutils 'mkdir invocation'\n"
     ]
    }
   ],
   "source": [
    "%%bash\n",
    "mkdir --help"
   ]
  },
  {
   "cell_type": "code",
   "execution_count": null,
   "metadata": {
    "collapsed": true
   },
   "outputs": [],
   "source": []
  }
 ],
 "metadata": {
  "kernelspec": {
   "display_name": "IPython (Python 3)",
   "name": "python3"
  },
  "language_info": {
   "codemirror_mode": {
    "name": "ipython",
    "version": 3
   },
   "file_extension": ".py",
   "mimetype": "text/x-python",
   "name": "python",
   "nbconvert_exporter": "python",
   "pygments_lexer": "ipython3"
  },
  "signature": "sha256:32682fde3bfda340905305fe001113900f7b211e11338801c6f5f1658065547c"
 },
 "nbformat": 4,
 "nbformat_minor": 0
}