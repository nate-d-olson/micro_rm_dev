{
 "cells": [
  {
   "cell_type": "markdown",
   "metadata": {},
   "source": [
    "### Testing out Pilon\n",
    "Objective: Test out using Pilon on the MiSeq and PGM data\n",
    "Approach: Running Pilon using bash commands, evaluate revise reference relative to HGAP and GenBank LT2"
   ]
  },
  {
   "cell_type": "markdown",
   "metadata": {},
   "source": [
    "#### Testing single paried end dataset"
   ]
  },
  {
   "cell_type": "code",
   "execution_count": 10,
   "metadata": {
    "collapsed": false
   },
   "outputs": [
    {
     "name": "stdout",
     "output_type": "stream",
     "text": [
      "Pilon version 1.10 Tue Nov 18 20:14:04 2014 -0500\n",
      "Genome: ../data/RM8375/ref/CFSAN008157.HGAP.fasta\n",
      "OpenJDK 64-Bit Server VM warning: INFO: os::commit_memory(0x00000007b2500000, 20447232, 0) failed; error='Cannot allocate memory' (errno=12)\n",
      "#\n",
      "# There is insufficient memory for the Java Runtime Environment to continue.\n",
      "# Native memory allocation (malloc) failed to allocate 20447232 bytes for committing reserved memory.\n",
      "# An error report file with more information is saved as:\n",
      "# /notebooks/dev/hs_err_pid246.log\n"
     ]
    }
   ],
   "source": [
    "%%bash\n",
    "java -Xmx4G -jar ../utilities/pilon-1.10.jar \\\n",
    "                --genome ../data/RM8375/ref/CFSAN008157.HGAP.fasta \\\n",
    "                --frags ../analysis/bioinf/sequence_purity/mapping/SRR1555296.bam \\\n",
    "                --changes --vcf --tracks \\\n",
    "                --fix \"all\" --debug #note --fix \"all\" default"
   ]
  },
  {
   "cell_type": "markdown",
   "metadata": {},
   "source": [
    "Error with head, needed to rerun bwa with revised params file"
   ]
  },
  {
   "cell_type": "markdown",
   "metadata": {},
   "source": [
    "Error with memory allocation, not sure if too many applicaitons running on laptop, or docker memory restrictions\n",
    "* re-running after closing windows and restarting finder (hung up on moving files to trash)\n",
    "* Need to look into changing amount of memory allocated to ipython notebook"
   ]
  },
  {
   "cell_type": "code",
   "execution_count": null,
   "metadata": {
    "collapsed": true
   },
   "outputs": [],
   "source": []
  },
  {
   "cell_type": "code",
   "execution_count": 12,
   "metadata": {
    "collapsed": false
   },
   "outputs": [],
   "source": [
    "%%bash \n",
    "python ../analysis/bioinf/sequence_purity/run_bwa_mem_pe.py \\\n",
    "        ../analysis/bioinf/sequence_purity/bwa_mem_pipeline_params.txt"
   ]
  },
  {
   "cell_type": "markdown",
   "metadata": {},
   "source": [
    "### Testing pilon on PGM data"
   ]
  },
  {
   "cell_type": "code",
   "execution_count": 5,
   "metadata": {
    "collapsed": false
   },
   "outputs": [
    {
     "name": "stdout",
     "output_type": "stream",
     "text": [
      "Process is terminated.\n"
     ]
    }
   ],
   "source": [
    "%%bash\n",
    "java -Xmx8G -jar ../utilities/pilon-1.10.jar \\\n",
    "                --genome ../data/RM8375/ref/CFSAN008157.HGAP.fasta \\\n",
    "                --unpaired ../data/RM8375/PGM/bam/IonXpress_001_R_2014_03_23_18_22_09_user_SN2-17-8375_Orthogonal_Measurement_1_Run_2_PacBioRef2.bam \\\n",
    "                --changes --vcf --tracks \\\n",
    "                --fix \"all\" --debug #note --fix \"all\" default"
   ]
  }
 ],
 "metadata": {
  "kernelspec": {
   "display_name": "IPython (Python 3)",
   "name": "python3"
  },
  "language_info": {
   "codemirror_mode": {
    "name": "ipython",
    "version": 3
   },
   "file_extension": ".py",
   "mimetype": "text/x-python",
   "name": "python",
   "nbconvert_exporter": "python",
   "pygments_lexer": "ipython3"
  },
  "signature": "sha256:0f38861d63c56d3e99c1ee9e22fe3dcb1ee8d4726d2df1eddacb8ea16b060f32"
 },
 "nbformat": 4,
 "nbformat_minor": 0
}