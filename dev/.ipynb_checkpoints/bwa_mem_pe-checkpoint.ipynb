{
 "cells": [
  {
   "cell_type": "markdown",
   "metadata": {},
   "source": [
    "### Functions for mapping paired end reads to reference fasta using bwa-mem\n",
    "* map_bwa_mem - maps reads using bwa mem algorithm\n",
    "* bwa_index_ref - indexing reference genome\n",
    "* bam_sort - sorting bam file\n",
    "* bam_index - indexing bam\n",
    "* sam_to_bam - converting alignment format\n"
   ]
  },
  {
   "cell_type": "code",
   "execution_count": 1,
   "metadata": {
    "collapsed": false
   },
   "outputs": [],
   "source": [
    "import sys\n",
    "import time\n",
    "import subprocess"
   ]
  },
  {
   "cell_type": "code",
   "execution_count": 2,
   "metadata": {
    "collapsed": true
   },
   "outputs": [],
   "source": [
    "def bwa_index_ref(ref,out_dir):\n",
    "    ## log files for standard out and error\n",
    "    log_file = open(out_dir + \"/bwa_index_ref\"+ time.strftime(\"-%Y-%m-%d-%H-%M-%S.log\"),'w')\n",
    "    stderr_file = open(out_dir + \"/bwa_index_ref\"+ time.strftime(\"-%Y-%m-%d-%H-%M-%S.stder\"),'w')\n",
    "\n",
    "    ## run command\n",
    "    bwa_index_command = [\"bwa\",\"index\",ref]\n",
    "    subprocess.call(bwa_index_command, stdout=log_file, stderr=stderr_file)\n",
    "    log_file.close(); stderr_file.close()"
   ]
  },
  {
   "cell_type": "code",
   "execution_count": 3,
   "metadata": {
    "collapsed": false
   },
   "outputs": [],
   "source": [
    "def bam_map_bwa_mem(ref, fq1, fq2, out_sam, out_dir, read_group):\n",
    "    ''' Mapping paired-end reads to reference'''\n",
    "    \n",
    "    ## log files for standard out and error\n",
    "    sam_file = open(out_sam,'w')\n",
    "    stderr_file = open(out_dir + \"/bwa_mem\"+ time.strftime(\"-%Y-%m-%d-%H-%M-%S.stder\"),'w')\n",
    "    \n",
    "    ## run command\n",
    "    bwa_mem_command = [\"bwa\",\"mem\",\"-t\",\"8\",\"-R\",read_group, ref,fq1,fq2]\n",
    "    subprocess.call(bwa_mem_command, stdout=sam_file, stderr=stderr_file)  \n",
    "    sam_file.close(); stderr_file.close()"
   ]
  },
  {
   "cell_type": "code",
   "execution_count": 4,
   "metadata": {
    "collapsed": true
   },
   "outputs": [],
   "source": [
    "def sam_to_bam(in_sam, out_bam, out_dir):\n",
    "    '''Convert sam to bam'''\n",
    "    \n",
    "    ## log files for standard out and error\n",
    "    bam_file = open(out_bam,'w')\n",
    "    stderr_file = open(out_dir + \"/samtools_view\"+ time.strftime(\"-%Y-%m-%d-%H-%M-%S.stder\"),'w')\n",
    "    \n",
    "    ## run command\n",
    "    sam_to_bam_command = [\"samtools\",\"view\",\"-b\",in_sam]\n",
    "    subprocess.call(sam_to_bam_command, stdout=bam_file, stderr=stderr_file)  \n",
    "    bam_file.close(); stderr_file.close()"
   ]
  },
  {
   "cell_type": "code",
   "execution_count": 5,
   "metadata": {
    "collapsed": false
   },
   "outputs": [],
   "source": [
    "def bam_sort(in_bam, out_sort, out_dir):\n",
    "    ''' Sorting bam'''\n",
    "    \n",
    "    ## log files for standard out and error\n",
    "    out_file = open(out_sort,'w')\n",
    "    stderr_file = open(out_dir + \"/bwa_sort\"+ time.strftime(\"-%Y-%m-%d-%H-%M-%S.stder\"),'w')\n",
    "    \n",
    "    ## run command\n",
    "    bam_sort_command = [\"samtools\",\"sort\",\"-T\",\"sort_temp\",\"-O\", \"bam\", in_bam]\n",
    "    subprocess.call(bam_sort_command, stdout=out_file,stderr=stderr_file) \n",
    "    out_file.close(); stderr_file.close()"
   ]
  },
  {
   "cell_type": "code",
   "execution_count": 6,
   "metadata": {
    "collapsed": true
   },
   "outputs": [],
   "source": [
    "def bam_index(out_dir, bam):\n",
    "    ''' index bam file'''\n",
    "    \n",
    "    ## log files for standard out and error\n",
    "    log_file = open(out_dir + \"/bwa_index\"+ time.strftime(\"-%Y-%m-%d-%H-%M-%S.log\"),'w')\n",
    "    stderr_file = open(out_dir + \"/bwa_index\"+ time.strftime(\"-%Y-%m-%d-%H-%M-%S.stder\"),'w')\n",
    "    \n",
    "    ## run command\n",
    "    subprocess.call([\"samtools\",\"index\",bam],stdout=log_file,stderr=stderr_file)\n",
    "    log_file.close(); stderr_file.close()"
   ]
  },
  {
   "cell_type": "code",
   "execution_count": 7,
   "metadata": {
    "collapsed": false
   },
   "outputs": [],
   "source": [
    "fq1 = '../data/RM8375/MiSeq/fastq/SRR1555296T_1.fastq'\n",
    "fq2 = '../data/RM8375/MiSeq/fastq/SRR1555296T_2.fastq'\n",
    "ref = '../data/RM8375/ref/CFSAN008157.HGAP.fasta'\n",
    "read_group = '@RG\\tID:test\\tSM:RM8375'\n",
    "out_dir = './'\n",
    "out_sam = 'SRR1555296T.sam'\n",
    "out_bam = 'SRR1555296T.bam'\n",
    "out_bam_sort = 'SRR1555296T.sort.bam'"
   ]
  }
 ],
 "metadata": {
  "kernelspec": {
   "display_name": "IPython (Python 2)",
   "name": "python2"
  },
  "language_info": {
   "codemirror_mode": {
    "name": "ipython",
    "version": 2
   },
   "file_extension": ".py",
   "mimetype": "text/x-python",
   "name": "python",
   "nbconvert_exporter": "python",
   "pygments_lexer": "ipython2"
  },
  "signature": "sha256:5723c8ab5347bbafcf6def3be681504ce0f71a93aa544c9a3961d454c4fafa24"
 },
 "nbformat": 4,
 "nbformat_minor": 0
}