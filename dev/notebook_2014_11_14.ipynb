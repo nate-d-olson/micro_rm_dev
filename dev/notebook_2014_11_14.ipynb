{
 "metadata": {
  "name": ""
 },
 "nbformat": 3,
 "nbformat_minor": 0,
 "worksheets": [
  {
   "cells": [
    {
     "cell_type": "markdown",
     "metadata": {},
     "source": [
      "## Notebook 11/14/2014\n",
      "Deleted all work from past few months! Cleaning up files and removed files in wrong directory!\n",
      "\n",
      "Opportunity for a fresh start\n",
      "\n",
      "### Objectives\n",
      "1. step up directory structure for study\n",
      "2. setup docker for performing analysis\n",
      "\n",
      "### Directory structure"
     ]
    },
    {
     "cell_type": "code",
     "collapsed": false,
     "input": [
      "%%bash\n",
      "tree -d ../"
     ],
     "language": "python",
     "metadata": {},
     "outputs": [
      {
       "output_type": "stream",
       "stream": "stdout",
       "text": [
        "../\n",
        "\u251c\u2500\u2500 analysis\n",
        "\u2502\u00a0\u00a0 \u251c\u2500\u2500 bioinf\n",
        "\u2502\u00a0\u00a0 \u2502\u00a0\u00a0 \u251c\u2500\u2500 genome_purity\n",
        "\u2502\u00a0\u00a0 \u2502\u00a0\u00a0 \u251c\u2500\u2500 genome_structure\n",
        "\u2502\u00a0\u00a0 \u2502\u00a0\u00a0 \u251c\u2500\u2500 sequence_homogeneity\n",
        "\u2502\u00a0\u00a0 \u2502\u00a0\u00a0 \u2514\u2500\u2500 sequence_purity\n",
        "\u2502\u00a0\u00a0 \u2514\u2500\u2500 stats\n",
        "\u251c\u2500\u2500 bin\n",
        "\u251c\u2500\u2500 data\n",
        "\u2502\u00a0\u00a0 \u2514\u2500\u2500 RM8375\n",
        "\u2502\u00a0\u00a0     \u251c\u2500\u2500 MiSeq\n",
        "\u2502\u00a0\u00a0     \u2502\u00a0\u00a0 \u251c\u2500\u2500 bam\n",
        "\u2502\u00a0\u00a0     \u2502\u00a0\u00a0 \u251c\u2500\u2500 fastq\n",
        "\u2502\u00a0\u00a0     \u2502\u00a0\u00a0 \u2514\u2500\u2500 vcf\n",
        "\u2502\u00a0\u00a0     \u251c\u2500\u2500 PGM\n",
        "\u2502\u00a0\u00a0     \u2502\u00a0\u00a0 \u251c\u2500\u2500 bam\n",
        "\u2502\u00a0\u00a0     \u2502\u00a0\u00a0 \u2514\u2500\u2500 vcf\n",
        "\u2502\u00a0\u00a0     \u2514\u2500\u2500 ref\n",
        "\u251c\u2500\u2500 dev\n",
        "\u2502\u00a0\u00a0 \u2514\u2500\u2500 tmp\n",
        "\u251c\u2500\u2500 doc\n",
        "\u2514\u2500\u2500 src\n",
        "\n",
        "22 directories\n"
       ]
      }
     ],
     "prompt_number": 14
    },
    {
     "cell_type": "markdown",
     "metadata": {},
     "source": [
      "1. analysis - code for performing data analysis\n",
      "    1. bioinf - scripts for running bioinformatic pipelines\n",
      "    2. stats - code for statistical summary of pipeline results\n",
      "2. bin - binaries for bioinformatic algorithms, note this may be included in the docker image\n",
      "3. data - raw sequence data\n",
      "4. dev - analysis playground\n",
      "5. doc - general project documentation\n",
      "6. src - source code for bioinformatic algorithms"
     ]
    },
    {
     "cell_type": "markdown",
     "metadata": {},
     "source": [
      "## Github repositories\n",
      "\n",
      "* analysis/bioinf\n",
      "    * genome_structure\n",
      "    * genome_purity\n",
      "    * sequence_purity\n",
      "    * sequence_homogenetiy   \n",
      "    \n",
      "For each README.md file describing analysis approach and bash or ipython pipeline scripts"
     ]
    },
    {
     "cell_type": "code",
     "collapsed": false,
     "input": [
      "mv sequence* ../analysis/bioinf/"
     ],
     "language": "python",
     "metadata": {},
     "outputs": [],
     "prompt_number": 9
    },
    {
     "cell_type": "markdown",
     "metadata": {},
     "source": [
      "Approach download related repositories will create new directories for the three different applications and transfer related files to each.  "
     ]
    },
    {
     "cell_type": "markdown",
     "metadata": {},
     "source": [
      "# TO DO\n",
      "1. set up github repository\n",
      "2. look into github annex for data\n",
      "3. code for creating directories for other reference materials - use -p for creating parents and {A,B,C} for multiple subdirectories\n",
      "4. vcf file for base quality score recalibration\n",
      "5. work on PGM variant call script"
     ]
    },
    {
     "cell_type": "code",
     "collapsed": false,
     "input": [],
     "language": "python",
     "metadata": {},
     "outputs": []
    }
   ],
   "metadata": {}
  }
 ]
}