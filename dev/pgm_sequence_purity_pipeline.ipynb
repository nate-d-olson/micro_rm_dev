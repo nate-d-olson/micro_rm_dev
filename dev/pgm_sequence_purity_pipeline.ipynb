{
 "metadata": {
  "name": ""
 },
 "nbformat": 3,
 "nbformat_minor": 0,
 "worksheets": [
  {
   "cells": [
    {
     "cell_type": "markdown",
     "metadata": {},
     "source": [
      "## Pipeline for PGM base level sequence purity analysis\n",
      "starting with bam files aligned by the Torrent Server using tmap\n",
      "\n",
      "Process\n",
      "1. remove duplicates\n",
      "2. realign around indels\n",
      "3. samtools - forcing calls at all positions"
     ]
    },
    {
     "cell_type": "code",
     "collapsed": false,
     "input": [
      "import sys"
     ],
     "language": "python",
     "metadata": {},
     "outputs": []
    },
    {
     "cell_type": "code",
     "collapsed": false,
     "input": [
      "def prep_bam_for_variant_calling(bam, ref, known_vcf):\n",
      "    ''' Function for generating variant calls from bam files, \n",
      "        adapted from  \n",
      "        http://www.htslib.org/workflow/#mapping_to_variant\n",
      "    '''\n",
      "    import subprocess\n",
      "    bam_split = bam.split(\"/\")[-1]\n",
      "    ref_split = ref.split(\"/\")[-1]\n",
      "    bam_root = ref_split.replace(\".fasta\",\"\") + \"_\" + bam_split.replace(\".bam\",\"\")\n",
      "    \n",
      "    ##%%## Need to work out logging code\n",
      "    log_file = open(bam_root + \".log\",'w')\n",
      "    log_file.write(\"Fix mate pairs for: %s\" % (bam))\n",
      "    # fix mate pairs\n",
      "    bam_fix = \"tmp/\" + bam_root + \".fix.bam\"\n",
      "    subprocess.call([\"samtools\",\"fixmate\",bam,bam_fix], stdout=log_file)\n",
      "    \n",
      "    # sort\n",
      "    bam_sort = \"tmp/\" + bam_root + \".sort.bam\"\n",
      "    subprocess.call([\"samtools\", \"sort\", \"-O\", bam, \"-o\", bam_sort, bam_fix], stderr=log_file)\n",
      "    \n",
      "    \n",
      "    GATK_command = [\"java\",\"-Xmx4g\",\"GenomeAnalysisTK.jar\"]\n",
      "    # realignment around indels\n",
      "    intervals = \"tmp/\" + bam_root + \".intervals\"\n",
      "    bam_realign = \"tmp/\" + bam_root + \"realign.bam\"\n",
      "    realigner_target_command = GATK_command + [\"-T\",\"RealignerTargetCreator\", \"-R\",\n",
      "                                             ref,\"-I\",bam_sort, \"-o\", intervals]\n",
      "    subprocess.call(realigner_target_command, stderr=log_file)\n",
      "    realigner_command = GATK_command + [\"-T\",\"IndelRealigner\", \"-R\", ref,\"-I\",bam_sort,\n",
      "                                \"-targetIntervals\", intervals, \"-o\", bam_realign]\n",
      "    subprocess.call(realigner_command, stderr=log_file)\n",
      "# Command line code  \n",
      "#     java -Xmx2g -jar GenomeAnalysisTK.jar -T RealignerTargetCreator \\\n",
      "#         -R ref -I bam_sort -o intervals\n",
      "#     java -Xmx4g -jar GenomeAnalysisTK.jar -T IndelRealigner \\\n",
      "#         -R ref -I bam_sort -targetIntervals intervals -o bam_realign\n",
      "        \n",
      "#     %%% Need to get vcf of know variant sites (vcf_known) first - this would be marged vcf calls\n",
      "    # base quality score recalibration\n",
      "    recal_table = \"tmp/\" + bam_root + \".recal.table\"\n",
      "    bam_recal = \"tmp/\" + bam_root + \"recal.bam\"\n",
      "    base_recal_command = GATK_command + [\"-T\",\"BaseRecalibrator\",\"-R\",ref, \"-knownSite\",\n",
      "                                         known_vcf, \"-I\", bam_realign, \"-o\", recal_table]\n",
      "    subprocess.call(base_recal_command, stderr=log_file)\n",
      "    base_recal_print_command = GATK_command + [\"-T\",\"PrintReads\",\"-R\",ref, \"-knownSite\",\n",
      "                                         known_vcf, \"-I\", bam_realign,\"--BSQR\", recal_table,\n",
      "                                         recal_table,\"-o\", bam_recal]\n",
      "# Command line code   \n",
      "#     java -Xmx4g -jar GenomeAnalysisTK.jar -T BaseRecalibrator \\\n",
      "#         -R ref -knownSites >bundle/b38/dbsnp_142.b38.vcf> -I bam_realign -o <lane_recal.table>\n",
      "#     java -Xmx2g -jar GenomeAnalysisTK.jar -T PrintReads \\\n",
      "#         -R ref -I bam_realign --BSQR recal_table -o bam_recal\n",
      "\n",
      "    # identification of duplicate reads\n",
      "    bam_mark_dup = bam_root + \".fix.realign.recal.mdup.bam\"\n",
      "    mark_dup_command = [\"java\",\"-Xmx2g\",\"-jar\",\"MarkDuplicates.jar\",\"VALIDATION_STRINGENCY=LENIENT\",\n",
      "                        (\"INPUT=%s\" % (bam_recal)),(\"OUTPUT=%s\" % (bam_mark))]\n",
      "    subprocess.call(mark_dup_command, stderr=log_file)\n",
      "    \n",
      "    # index\n",
      "    subprocess.call([\"samtools\",\"index\",bam_mark_dup],stderr=log_file)\n",
      "    return bam_mark_dup\n",
      "    \n",
      "def genome_calls_mpileup(bams,ref, vcf_filename,log_file = \"mpileup.log\"):\n",
      "    ''' Takes a list of bam files and refernece genome then\n",
      "        performs base level sequence analysis\n",
      "    '''\n",
      "    import subprocess\n",
      "    mpileup_command = [\"samtools\",\"mpileup\", \"-uvf\", \"-t\", \"DP\", \"-t\", \"DV\",\n",
      "                     \"-t\", \"DPR\", \"-t\", \"SP\", \"-t\", \"DP4\", ref] + bams\n",
      "    subprocess.call(mpileup_command,stdout=vcf_filename,stderr=log_file)"
     ],
     "language": "python",
     "metadata": {},
     "outputs": [],
     "prompt_number": 10
    },
    {
     "cell_type": "code",
     "collapsed": false,
     "input": [
      "def main():\n",
      "    ref=sys.argv[1]\n",
      "    known_vcf=sys.argv[2]\n",
      "    vcf_filename=sys.argv[3]\n",
      "    # processing multiple bams\n",
      "    processed_bams = []\n",
      "    for i in sys.argv[4:]:\n",
      "        processed_bams.append(prep_bam_for_variant_calling(i, ref,known_vcf))\n",
      "    genome_calls_mpileup(processed_bams,ref, vcf_filename)\n",
      "# Need to check also incorporate command line parsing\n",
      "# def __main__ if name == \"\":\n",
      "#     main()"
     ],
     "language": "python",
     "metadata": {},
     "outputs": [],
     "prompt_number": 13
    },
    {
     "cell_type": "code",
     "collapsed": false,
     "input": [],
     "language": "python",
     "metadata": {},
     "outputs": []
    }
   ],
   "metadata": {}
  }
 ]
}