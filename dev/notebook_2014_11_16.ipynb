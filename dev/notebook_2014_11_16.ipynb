{
 "metadata": {
  "name": ""
 },
 "nbformat": 3,
 "nbformat_minor": 0,
 "worksheets": [
  {
   "cells": [
    {
     "cell_type": "code",
     "collapsed": false,
     "input": [
      "## Setting up github repository and git annex\n",
      "Objective setup git repository and git annex for micro rm project\n",
      "\n",
      "### git-annex\n",
      "https://git-annex.branchable.com/how_it_works/\n",
      "stores the file name and metadata\n",
      "\n",
      "1. install on desktop `sudo apt-get install git-annex`\n",
      "2. use to sync folders across computers\n",
      "3. secrete phrase \"nate's micro_rm annex\"\n",
      "4. need to revisit at a later point, use rsync for now\n",
      "\n",
      "### github\n",
      "1. restructured the micro_rm_dev repository\n",
      "2. added code from the genome_positions_classification git hub repository to analysis/stats/sequence_purity\n",
      "3. \n",
      "\n",
      "### structure\n",
      "1. Rproj for all stats analysis, maybe use project template but up in the air\n",
      "2. "
     ],
     "language": "python",
     "metadata": {},
     "outputs": []
    }
   ],
   "metadata": {}
  }
 ]
}