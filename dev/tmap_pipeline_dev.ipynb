{
 "cells": [
  {
   "cell_type": "markdown",
   "metadata": {},
   "source": [
    "## Objective\n",
    "create functions and pipeline for running tmap"
   ]
  },
  {
   "cell_type": "code",
   "execution_count": 13,
   "metadata": {
    "collapsed": false
   },
   "outputs": [
    {
     "name": "stderr",
     "output_type": "stream",
     "text": [
      "\n",
      "\u001b[31mtmap:   \u001b[37mtorrent mapper\u001b[0m\n",
      "\u001b[31mVersion: \u001b[37m3.4.1\u001b[0m \u001b[31mgit:\u001b[37m39c56e6cd6471b8d796e3b8af2c00206f1002fae\u001b[0m\n",
      "\u001b[31mWeb Site: \u001b[37mhttp://github.com/iontorrent/tmap\u001b[0m\n",
      "\u001b[31mContact: \u001b[37mhttp://ioncommunity.lifetechnologies.com\u001b[0m\n",
      "\n",
      "\u001b[31mPre-processing:\u001b[0m\n",
      "         \u001b[36mindex\u001b[0m           \u001b[37mcreates the packed FASTA, BWT string, and SA files\u001b[0m\n",
      "\n",
      "\u001b[31mServer:\u001b[0m\n",
      "         \u001b[36mserver\u001b[0m          \u001b[37mcreates a mapping server\u001b[0m\n",
      "\n",
      "\u001b[31mMapping:\u001b[0m\n",
      "         \u001b[36mmap1\u001b[0m            \u001b[37mmapping procedure #1 (bwa-short variant)\u001b[0m\n",
      "         \u001b[36mmap2\u001b[0m            \u001b[37mmapping procedure #2 (bwa-long/BWASW variant)\u001b[0m\n",
      "         \u001b[36mmap3\u001b[0m            \u001b[37mmapping procedure #3 (k-mer lookup)\u001b[0m\n",
      "         \u001b[36mmap4\u001b[0m            \u001b[37mmapping procedure #4 (bwa fastmap variant)\u001b[0m\n",
      "         \u001b[36mmapvsw\u001b[0m          \u001b[37mmapping procedure vectorized smith waterman\u001b[0m\n",
      "         \u001b[36mmapall\u001b[0m          \u001b[37mmulti-mapping procedure\u001b[0m\n",
      "\n",
      "\u001b[31mUtilities:\u001b[0m\n",
      "         \u001b[36mfasta2pac\u001b[0m       \u001b[37mcreates the packed FASTA file\u001b[0m\n",
      "         \u001b[36mpac2bwt\u001b[0m         \u001b[37mcreates the BWT string file from the packed FASTA file\u001b[0m\n",
      "         \u001b[36mbwt2sa\u001b[0m          \u001b[37mcreates the SA file from the BWT string file\u001b[0m\n",
      "         \u001b[36msff2fq\u001b[0m          \u001b[37mconverts a SFF file to a FASTQ file\u001b[0m\n",
      "         \u001b[36msff2sam\u001b[0m         \u001b[37mconverts a SFF file to a SAM file\u001b[0m\n",
      "         \u001b[36mrefinfo\u001b[0m         \u001b[37mprints information about the reference\u001b[0m\n",
      "         \u001b[36mpac2fasta\u001b[0m       \u001b[37mconverts a packed FASTA to a FASTA file\u001b[0m\n",
      "         \u001b[36mbwtupdate\u001b[0m       \u001b[37mupdates the bwt hash width\u001b[0m\n",
      "         \u001b[36mindexsize\u001b[0m       \u001b[37mgives the index size in bytes\u001b[0m\n",
      "         \u001b[36msam2fs\u001b[0m          \u001b[37mpretty print SAM records in flow space\u001b[0m\n",
      "         \u001b[36msamtools\u001b[0m        \u001b[37msamtools (Tools for alignments in the SAM format)\u001b[0m\n",
      "         \u001b[36mbcftools\u001b[0m        \u001b[37mbcftools (Tools for data in the VCF/BCF formats)\u001b[0m\n",
      "         \u001b[36msw\u001b[0m              \u001b[37msimple smith waterman\u001b[0m\n"
     ]
    }
   ],
   "source": [
    "%%bash\n",
    "tmap --help"
   ]
  },
  {
   "cell_type": "code",
   "execution_count": 9,
   "metadata": {
    "collapsed": false
   },
   "outputs": [],
   "source": [
    "%%bash\n",
    "tmap index -f ../data/RM8375/ref/HGAP_MiSeq.fasta"
   ]
  },
  {
   "cell_type": "code",
   "execution_count": 10,
   "metadata": {
    "collapsed": false
   },
   "outputs": [],
   "source": [
    "%%bash\n",
    "tmap mapall -f ../data/RM8375/ref/HGAP_MiSeq.fasta -r ../data/RM8375/PGM/fastq/SRR1393710.fastq -i fastq -s SRR1393710.sam stage1 map4"
   ]
  },
  {
   "cell_type": "code",
   "execution_count": 12,
   "metadata": {
    "collapsed": false
   },
   "outputs": [
    {
     "name": "stdout",
     "output_type": "stream",
     "text": [
      "@HD\tVN:1.4\n",
      "@SQ\tSN:unitig_0|quiver|quiver|quiver|pilon\tLN:4857490\n",
      "@SQ\tSN:unitig_2|quiver|quiver|quiver|pilon\tLN:93928\n",
      "@RG\tID:NOID\tPG:tmap\tSM:NOSM\n",
      "@PG\tID:tmap\tCL:mapall -f ../data/RM8375/ref/HGAP_MiSeq.fasta -r ../data/RM8375/PGM/fastq/SRR1393710.fastq -i fastq -s SRR1393710.sam stage1 map4\tVN:3.4.1\n",
      "SRR1393710.1\t0\tunitig_0|quiver|quiver|quiver|pilon\t3754311\t81\t27M3I14M1I28M1I65M1I116M1D37M3S\t*\t0\t0\tCTAACAAAATAACGTGCTGTAATTTTTTTAAAAATAATAAGAGATTTACGTCTGGTTGCAAGAGATCATGACAGGGGGGAATTGGTTGAAAATAAATATATCGCCAGCAGCACATGAACAAGTTTCGGAATGTGATCAATTTTAAAAATTTATTGACTTAGGCGGGCAGATACTTTAACCAATATAGGAATACAAGACAGACAAATAAAAATGACAGAGTACACAACATCCATGAACCACATCAGCACCACCACCATACCACCATCACCATTACCACAGGTAACGGTGCGGGCCTG\t/5;69>>>1=>9>>@:99@991999999$8888*//(//(////55*6;;;665/64::<8<<?@:::?>>A::::::);8?:>1:19988+5==9?AEAAACD<?ABCCC@@@:::2;F2:::-:>9>896655555/555(5555'55)556;;@A>BB<BBD@DAAA@>:;?)/)/8?6>>B@B2:5:@>>8C/////CBB1/::::*:::????AAAA>=>;A>>>:?...'/)/////;>><<7=>4721,,,,(,61489//)//)//)/488499(//(/889<382..\tRG:Z:NOID\tPG:Z:tmap\tMD:Z:232G17^T37\tNM:i:8\tAS:i:244\tXA:Z:map4-1\tXS:i:-2147483647\n",
      "SRR1393710.2\t0\tunitig_0|quiver|quiver|quiver|pilon\t3754292\t96\t306M1I10M\t*\t0\t0\tCCATGATATTGAAAAAAAACTAACAAAATAACGTGCTGTAATTTTTAAAATAATAAGAGATTACGTCTGGTTGCAAGAGATCATGACAGGGGGAATTGGTTGAAAATAAATATATCGCCAGCAGCACATGAACAAGTTTCGGAATGTGATCAATTTAAAAATTTATTGACTTAGGCGGGCAGATACTTTAACCAATATAGGAATACAAGACAGACAAATAAAAATGACAGAGTACACAACATCCATGAACCGCATCAGCACCACCACCATTACCACCATCACCATTACCACAGGTAACGGTGCGGGCCTGACGCGTA\tB>CAA<<591::::::::$6;;7:<::,:;7>>CCCCDEC9??>>->>>1??8?C=CB99;4;:AAAAB=B>BDF<AAC??:::AAA:::::*:;A<D<C<AACA4???7@????@@A8B?CGFCAA@CBB:?>8==>5>A<E?@@@BC?>=.76(7777'77(5=7==CD=CC=DEC:CBDAAABAB9B<A<B;99:?A<F;AABA3:9A@AAA?A499999)999>A@@=>>/,++'+2474>;891<+//;99<?7766;:5;;8===CC=CC9>?=//(.82./(.777489*-415669<14--8-----13\tRG:Z:NOID\tPG:Z:tmap\tMD:Z:316\tNM:i:1\tAS:i:309\tXA:Z:map4-1\tXS:i:-2147483647\n",
      "SRR1393710.3\t16\tunitig_0|quiver|quiver|quiver|pilon\t3754104\t86\t34M1D8M1D7M1D25M1I2M1I15M1I262M\t*\t0\t0\tGGTTTAATGCAACAGACCACAGAATCCGTTGATATGCTGATGATCGCAGTACAGGCGTTACGCGCGCGCCTTTTCACAGCCTGCTAACGACTCATGGAGGCGGCCGATGACCACAAATTAACCGACTGGCTACAACAGCGAATCGGCCTGCTGGGACAGCGAGATACGGTAATGTTGCACCGTTTGGTCCATGATATTGAAAAAAAACTAACAAAATAACGTGCTGTAATTTTTAAAATAATAAGAGATTACGTCTGGTTGCAAGAGATCATGACAGGGGGAATTGGTTGAAAATAAATATATCGCCAGCAGCACATGAACAAGTTTCGGAATGTGATCAATTTAAAAATTTATTG\t43(33-3366166634/44485/568@?;?>>;666655;<777<<<<77666/44448995555555/;,<<5/////)////;6:66555555465/;<6:6::667<8>>A:BB<>;>6<:6677;;<;<7<<<:;:46884:4>777<0?5565556;;76,,1,,(,,,1444:6;5*66/646<<?A@772;5$55555555/28/'////4/////::55/9+9995'////2;/)////78>>@B@::3?8?>98<869>:;899;44'4444-3/5/<5<6(6665*55999:?@:4:9CC@A@A>>7838/)//)///296;<555556/5(//&888/(///(//\tRG:Z:NOID\tPG:Z:tmap\tMD:Z:34^T8^A7^T304\tNM:i:6\tAS:i:311\tXA:Z:map4-1\tXS:i:-2147483647\n",
      "SRR1393710.4\t16\tunitig_0|quiver|quiver|quiver|pilon\t3754250\t87\t53M1I17M2I46M1I82M1I134M\t*\t0\t0\tCCTGCTGGGACAGCGAGATACGGTAATGTTGCACCGTTTGGTCCATGATATTGAAAAAAAAACTAACAAAAATAAACGTGCTGTAATTTTTAAAATAATAAGAGATTACGTCTGGTTGCAAAGAGATCATGACAGGGGGAATTGGTTGAAAATAAATATATCGCCAGCAGCACATGAACAAGTTTCGGAATGTGATCAATTTAAAAAATTTATTGACTTAGGCGGGCAGATACTTTAACCAATATAGGAATACAAGACAGACAAATAAAAATGACAGAGTACACAACATCCATGAACCGCATCAGCACCACCACCATTACCACCATCACCATTACCA\t/1114-'--.-:4281-----/75/--424111-543?=5=>:744@??9488\"8877888=-.'4-&-----+145B?775@@89(4443(5511-3-'-.240-2---798483883(373;<<;7939---&-..-'.'.'=8B?/AA.74A>48444985@677;=?@;?=>5=:3:::CEC=96;:?=9;771:,B:(:::::,@@?;BAA@9E:2::2?=;?<==95,::/:7B<CDFB@861::;:1AC@AAAA:-;:6->?>?@B>??A???BBDF>;::?8????9><@BDBBACBAB=BB<??8B?9??=A@;AAA@@<>:/:9:<6\tRG:Z:NOID\tPG:Z:tmap\tMD:Z:70T261\tNM:i:6\tAS:i:298\tXA:Z:map4-1\tXS:i:-2147483647\n",
      "SRR1393710.5\t16\tunitig_0|quiver|quiver|quiver|pilon\t3754279\t94\t47M1D39M1I261M\t*\t0\t0\tTGCACCGTTTGGTCCATGATATTGAAAAAAAACTAACAAAATAACGTCTGTAATTTTTAAAATAATAAGAGATTACGTCTGGTTGCAAAGAGATCATGACAGGGGGAATTGGTTGAAAATAAATATATCGCCAGCAGCACATGAACAAGTTTCGGAATGTGATCAATTTAAAAATTTATTGACTTAGGCGGGCAGATACTTTAACCAATATAGGAATACAAGACAGACAAATAAAAATGACAGAGTACACAACATCCATGAACCGCATCAGCACCACCACCATTACCACCATCACCATTACCACAGGTAACGGTGCGGGCTGACGCGTACAGGAAACACAGAAAAAAG\t87843633=:5;5386832--+33$9999995996:7,;::83::9<<7::24'4444&444-'--'--44--3368346895944)44/,,,,,))*,//+;CC@:@:=6/1:7*9998+999?<??AA<C??????@A:98=882B?8>@>8D@=77755:6/6*=6(6666*;;;38,,,07,(,,)B,//DBD;;6BB>B=B<BB::::@:A:::9A???:9:>4=>>-<<<<?>>?AAAABCFGC>@??@:?::::@:AACEDLMCCC?CC=;;9CD>DA<??<C@@?B;AA<AA=BA@;8962//(//;9+:99><????BB??>=D<CCC=<<5):::::8\tRG:Z:NOID\tPG:Z:tmap\tMD:Z:47^G300\tNM:i:2\tAS:i:333\tXA:Z:map4-1\tXS:i:-2147483647\n"
     ]
    }
   ],
   "source": [
    "%%bash\n",
    "head SRR1393710.sam"
   ]
  },
  {
   "cell_type": "markdown",
   "metadata": {},
   "source": [
    "## tmap commands"
   ]
  },
  {
   "cell_type": "code",
   "execution_count": 1,
   "metadata": {
    "collapsed": true
   },
   "outputs": [],
   "source": [
    "## functions for mapping fastq files with tmap\n",
    "import sys\n",
    "import time\n",
    "import subprocess"
   ]
  },
  {
   "cell_type": "code",
   "execution_count": 2,
   "metadata": {
    "collapsed": false
   },
   "outputs": [],
   "source": [
    "def tmap_index_ref(in_ref, log_dir):\n",
    "    '''tmap index reference'''\n",
    "    print \"Indexing reference with TMAP ...\"\n",
    "    \n",
    "    # prep files\n",
    "    log_file = open(log_dir + \"/tmap_index_ref\" + time.strftime(\"-%Y-%m-%d-%H-%M-%S.log\"),'w')\n",
    "    stderr_file = open(log_dir + \"/tmap_index_ref\" + time.strftime(\"-%Y-%m-%d-%H-%M-%S.stder\"),'w')\n",
    "    \n",
    "    # run command\n",
    "    tmap_index_ref_command = [\"tmap\", \"index\", \"-f\",ref]\n",
    "    subprocess.call(tmap_index_ref_command, stdout=log_file,stderr=stderr_file) \n",
    "    log_file.close(); stderr_file.close()"
   ]
  },
  {
   "cell_type": "code",
   "execution_count": 3,
   "metadata": {
    "collapsed": true
   },
   "outputs": [],
   "source": [
    "def tmap_map_fq(in_ref, in_fq, out_sam, log_dir):\n",
    "    '''Mapping fastq with tmap'''\n",
    "    print \"Mapping fastq with TMAP ...\"\n",
    "    \n",
    "    # prep files\n",
    "    log_file = open(log_dir + \"/tmap_map\"+ time.strftime(\"-%Y-%m-%d-%H-%M-%S.log\"),'w')\n",
    "    stderr_file = open(log_dir + \"/tmap_map\"+ time.strftime(\"-%Y-%m-%d-%H-%M-%S.stder\"),'w')\n",
    "    \n",
    "    # run command\n",
    "    tmap_map_command = [\"tmap\", \"mapall\", \"-f\", ref, \"-r\", in_fq, \"-i\", \"fastq\", \"-s\", out_sam, \"stage1\", \"map4\"]\n",
    "    subprocess.call(tmap_map_command, stdout=log_file,stderr=stderr_file) \n",
    "    log_file.close(); stderr_file.close()"
   ]
  },
  {
   "cell_type": "markdown",
   "metadata": {},
   "source": [
    "### Testing functions"
   ]
  },
  {
   "cell_type": "code",
   "execution_count": 4,
   "metadata": {
    "collapsed": true
   },
   "outputs": [],
   "source": [
    "ref = \"../data/RM8375/ref/HGAP_MiSeq.fasta\"\n",
    "fq = \"../data/RM8375/PGM/fastq/SRR1393711.fastq\"\n",
    "out_sam=\"SRR1393711.fastq\"\n",
    "log_dir=\"../dev\""
   ]
  },
  {
   "cell_type": "code",
   "execution_count": 5,
   "metadata": {
    "collapsed": false
   },
   "outputs": [
    {
     "name": "stdout",
     "output_type": "stream",
     "text": [
      "Indexing reference with TMAP ...\n",
      "Mapping fastq with TMAP ...\n"
     ]
    }
   ],
   "source": [
    "tmap_index_ref(ref,log_dir)\n",
    "tmap_map_fq(ref,fq,out_sam,log_dir)"
   ]
  },
  {
   "cell_type": "code",
   "execution_count": null,
   "metadata": {
    "collapsed": true
   },
   "outputs": [],
   "source": []
  }
 ],
 "metadata": {
  "kernelspec": {
   "display_name": "IPython (Python 2)",
   "name": "python2"
  },
  "language_info": {
   "codemirror_mode": {
    "name": "ipython",
    "version": 2
   },
   "file_extension": ".py",
   "mimetype": "text/x-python",
   "name": "python",
   "nbconvert_exporter": "python",
   "pygments_lexer": "ipython2"
  },
  "signature": "sha256:4d693d8e83e893af3707f848e62624b164fc09ce3a5836476a5371047492e747"
 },
 "nbformat": 4,
 "nbformat_minor": 0
}