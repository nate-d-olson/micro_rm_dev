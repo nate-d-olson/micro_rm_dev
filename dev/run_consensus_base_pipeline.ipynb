{
 "cells": [
  {
   "cell_type": "markdown",
   "metadata": {},
   "source": [
    "###Whole genome vcf files\n",
    "\n",
    "Input: Individually mapped bam files     \n",
    "Output: Single VCF file"
   ]
  },
  {
   "cell_type": "code",
   "execution_count": null,
   "metadata": {
    "collapsed": true
   },
   "outputs": [],
   "source": [
    "import sys\n",
    "import re\n",
    "import subprocess\n",
    "from bwa_mem_pe import *\n",
    "from consensus_base import *"
   ]
  },
  {
   "cell_type": "markdown",
   "metadata": {},
   "source": [
    "## structure\n",
    "consensus_params - running all bams    \n",
    "run_params - individual bam run params"
   ]
  },
  {
   "cell_type": "markdown",
   "metadata": {},
   "source": [
    "### single bam params\n",
    "* input: bam\n",
    "* group_sort_file\n",
    "* log_dir\n",
    "* fix_file\n",
    "* sort_file\n",
    "* realign_file\n",
    "* intervals_file\n",
    "* markdup_file\n",
    "* metrics_file"
   ]
  },
  {
   "cell_type": "code",
   "execution_count": null,
   "metadata": {
    "collapsed": true
   },
   "outputs": [],
   "source": [
    "def define_run_params(run_info,parameters):\n",
    "    # hash for storing run specific information\n",
    "    from collections import defaultdict\n",
    "    \n",
    "    run_params = defaultdict(str)\n",
    "    \n",
    "#     run_info_list = run_info.split(\":\")\n",
    "#     run_params['plat'] = run_info_list[1]\n",
    "#     run_params['run_id'] = run_info_list[0]\n",
    "#     run_params['vial'] = run_info_list[2]\n",
    "#     run_params['rep'] = run_info_list[3]\n",
    "    \n",
    "#     fastq_root = parameters['root_dir'] + parameters['fastq_dir'] + \\\n",
    "#                                    run_info_list[1] + '/'+ 'fastq'+'/'\n",
    "#     if run_info_list[1] == \"MiSeq\":\n",
    "#         run_params['fastq1'] = fastq_root + run_info_list[0] + \"_1.fastq\"\n",
    "#         run_params['fastq2'] = fastq_root + run_info_list[0] + \"_2.fastq\"\n",
    "#     else:\n",
    "#         run_params['fastq1'] = fastq_root + run_info_list[0] + \".fastq\"\n",
    "#         run_params['fastq2'] = None\n",
    "        \n",
    "#     run_params['out_dir'] = parameters['root_dir'] + parameters['analysis_out_dir']\n",
    "#     run_params['sam'] = run_params['out_dir'] + \"/tmp/\" + run_params['run_id'] + \".sam\"\n",
    "#     run_params['bam'] = run_params['out_dir'] + \"/tmp/\" + run_params['run_id'] + \".bam\"\n",
    "#     run_params['sorted_bam'] = run_params['out_dir'] + \"/\"+ run_params['run_id'] + \".bam\"\n",
    "#     run_params['read_group'] = \"@RG\\tID:%s\\tCN:%s\\tLB:%s\\tPL:%s\\tSM:%s\" %(run_params['run_id'],\n",
    "#                                                                           parameters['center'],\n",
    "#                                                                           run_params['vial']+\"-\"+run_params['rep'],\n",
    "#                                                                           run_params['plat'],\n",
    "#                                                                           run_params['run_id'])\n",
    "    return run_params"
   ]
  },
  {
   "cell_type": "code",
   "execution_count": null,
   "metadata": {
    "collapsed": true
   },
   "outputs": [],
   "source": [
    "def dedup_realign_single_bam(run_params, bam_params):\n",
    "    ''' Processing single bam file'''\n",
    "    bam_group_sort(in_bam = bam_params['bam'], \n",
    "                   out_bam = bam_params['group_sort_file'], \n",
    "                   log_dir = run_params['log_dir'])\n",
    "    \n",
    "    bam_fixmate(in_bam = bam_params['group_sort_file'],\n",
    "                out_bam = bam_params['fix_file'],\n",
    "                log_dir = run_params['log_dir'])\n",
    "    \n",
    "    bam_sort(in_bam = bam_params['fix_file'], \n",
    "            out_bam = bam_params['sort_file'], \n",
    "            out_dir = run_params['log_dir'])\n",
    "    \n",
    "    bam_index(in_bam = bam_params['sort_file'],\n",
    "              out_dir = run_params['log_dir'])\n",
    "    \n",
    "    bam_realign(in_bam = bam_params['sort_file'],\n",
    "                out_bam = bam_params['realign_file'], \n",
    "                intervals_file = bam_params['intervals_file'],\n",
    "                log_dir = run_params['log_dir'])\n",
    "    \n",
    "    bam_markdup(in_bam = bam_params['realign_file'], \n",
    "                out_bam = bam_params['markdup_file'], \n",
    "                metrics_file = bam_params['metrics_file']\n",
    "                log_dir = run_params['log_dir'])\n",
    "    \n",
    "    bam_index(in_bam = bam_params['markdup_file'],\n",
    "              out_dir = run_params['log_dir'])"
   ]
  },
  {
   "cell_type": "code",
   "execution_count": null,
   "metadata": {
    "collapsed": true
   },
   "outputs": [],
   "source": [
    "def run_consensus_base_pipeline(run_params,consensus_params):\n",
    "    \n",
    "    ## creating file with run parameters\n",
    "    run_log_file = open(run_params['out_dir']+\"/\" + run_params['run_id'] +\"-run_parameters.txt\", 'w')\n",
    "    run_log_file.write(\"Parameter\\tValue\\n\")\n",
    "    for i in run_params.keys():\n",
    "        run_log_file.write(\"%s\\t%s\\n\" % (i, run_params[i]))\n",
    "    for i in bwa_params.keys():\n",
    "        run_log_file.write(\"%s\\t%s\\n\" % (i, bwa_params[i]))\n",
    "    run_log_file.close()\n",
    "    \n",
    "    ## running bwa_mem\n",
    "    bam_map_bwa_mem(ref = bwa_params['root_dir'] + bwa_params['ref'],\n",
    "                        fq1 = run_params['fastq1'],\n",
    "                        fq2 =run_params['fastq2'],\n",
    "                        out_sam = run_params['sam'],\n",
    "                        out_dir = run_params['out_dir'],\n",
    "                        read_group = run_params['read_group'])\n",
    "    sam_to_bam(in_sam = run_params['sam'], \n",
    "                     out_bam = run_params['bam'], \n",
    "                     out_dir = run_params['out_dir'])\n",
    "    bam_sort(in_bam = run_params['bam'],\n",
    "                 out_sort = run_params['sorted_bam'],\n",
    "                 out_dir = run_params['out_dir'])\n",
    "    bam_index(out_dir = run_params['out_dir'], bam = run_params['sorted_bam'])\n",
    "    \n",
    "    \n",
    "    \n",
    "    ## running consensus base pipeline\n",
    "    \n",
    "\n",
    "## TODO\n",
    "# add merging bams and realign around indels for merged bams\n",
    "genome_calls_mpileup([bam_markdup_file],ref,vcf_file,out_dir)"
   ]
  }
 ],
 "metadata": {
  "kernelspec": {
   "display_name": "IPython (Python 3)",
   "name": "python3"
  },
  "language_info": {
   "codemirror_mode": {
    "name": "ipython",
    "version": 3
   },
   "file_extension": ".py",
   "mimetype": "text/x-python",
   "name": "python",
   "nbconvert_exporter": "python",
   "pygments_lexer": "ipython3"
  },
  "signature": "sha256:a0ac0cb27f7c7adf8b9965a8b4956a175d02338cff2f31b35e73d96cd00d6a32"
 },
 "nbformat": 4,
 "nbformat_minor": 0
}