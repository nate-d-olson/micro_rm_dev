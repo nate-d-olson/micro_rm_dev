{
 "metadata": {
  "name": "",
  "signature": "sha256:7e620845bb4d1055c2c31602d652f8cb098a0afb1db1992fec62a3c14cd61f65"
 },
 "nbformat": 3,
 "nbformat_minor": 0,
 "worksheets": [
  {
   "cells": [
    {
     "cell_type": "markdown",
     "metadata": {},
     "source": [
      "Running Pilon on all PGM data combined"
     ]
    },
    {
     "cell_type": "code",
     "collapsed": false,
     "input": [
      "%%bash --out pgm_bam_list\n",
      "ls ../../../data/RM8375/PGM/bam/*bam"
     ],
     "language": "python",
     "metadata": {},
     "outputs": [],
     "prompt_number": 23
    },
    {
     "cell_type": "code",
     "collapsed": false,
     "input": [
      "pgm_bam_list=pgm_bam_list.split(\"\\n\")[:-1]"
     ],
     "language": "python",
     "metadata": {},
     "outputs": [],
     "prompt_number": 24
    },
    {
     "cell_type": "code",
     "collapsed": false,
     "input": [
      "pilon_command_bam = \"--unpaired \" + \" --unpaired \".join(pgm_bam_list)"
     ],
     "language": "python",
     "metadata": {},
     "outputs": [],
     "prompt_number": 25
    },
    {
     "cell_type": "code",
     "collapsed": false,
     "input": [
      "pilon_command_bam"
     ],
     "language": "python",
     "metadata": {},
     "outputs": [
      {
       "metadata": {},
       "output_type": "pyout",
       "prompt_number": 26,
       "text": [
        "'--unpaired ../../../data/RM8375/PGM/bam/IonXpress_001_R_2014_03_23_18_22_09_user_SN2-17-8375_Orthogonal_Measurement_1_Run_2_PacBioRef2.bam --unpaired ../../../data/RM8375/PGM/bam/IonXpress_002_R_2014_03_23_18_22_09_user_SN2-17-8375_Orthogonal_Measurement_1_Run_2_PacBioRef2.bam --unpaired ../../../data/RM8375/PGM/bam/IonXpress_003_R_2014_03_23_18_22_09_user_SN2-17-8375_Orthogonal_Measurement_1_Run_2_PacBioRef2.bam --unpaired ../../../data/RM8375/PGM/bam/IonXpress_004_R_2014_03_23_18_22_09_user_SN2-17-8375_Orthogonal_Measurement_1_Run_2_PacBioRef2.bam --unpaired ../../../data/RM8375/PGM/bam/IonXpress_005_R_2014_03_23_18_22_09_user_SN2-17-8375_Orthogonal_Measurement_1_Run_2_PacBioRef2.bam --unpaired ../../../data/RM8375/PGM/bam/IonXpress_006_R_2014_03_23_18_22_09_user_SN2-17-8375_Orthogonal_Measurement_1_Run_2_PacBioRef2.bam --unpaired ../../../data/RM8375/PGM/bam/IonXpress_007_R_2014_03_23_18_22_09_user_SN2-17-8375_Orthogonal_Measurement_1_Run_2_PacBioRef2.bam --unpaired ../../../data/RM8375/PGM/bam/IonXpress_008_R_2014_03_23_18_22_09_user_SN2-17-8375_Orthogonal_Measurement_1_Run_2_PacBioRef2.bam --unpaired ../../../data/RM8375/PGM/bam/R_2014_03_23_18_22_09_user_SN2-17-8375_Orthogonal_Measurement_1_Run_2_PacBioRef2.bam'"
       ]
      }
     ],
     "prompt_number": 26
    },
    {
     "cell_type": "code",
     "collapsed": false,
     "input": [
      "%%bash\n",
      "java -Xmx8G -jar ../../../utilities/pilon-1.10.jar \\\n",
      "                --genome ../data/RM8375/ref/CFSAN008157.HGAP.fasta \\\n",
      "                --unpaired ../data/RM8375/PGM/bam/IonXpress_001_R_2014_03_23_18_22_09_user_SN2-17-8375_Orthogonal_Measurement_1_Run_2_PacBioRef2.bam \\\n",
      "                --changes --vcf --tracks \\\n",
      "                --fix \"all\" --debug #note --fix \"all\" default"
     ],
     "language": "python",
     "metadata": {},
     "outputs": [
      {
       "output_type": "stream",
       "stream": "stdout",
       "text": [
        "Pilon version 1.10 Tue Nov 18 20:14:04 2014 -0500\n"
       ]
      },
      {
       "output_type": "stream",
       "stream": "stderr",
       "text": [
        "Exception in thread \"main\" java.lang.reflect.InvocationTargetException\n",
        "\tat sun.reflect.NativeMethodAccessorImpl.invoke0(Native Method)\n",
        "\tat sun.reflect.NativeMethodAccessorImpl.invoke(NativeMethodAccessorImpl.java:57)\n",
        "\tat sun.reflect.DelegatingMethodAccessorImpl.invoke(DelegatingMethodAccessorImpl.java:43)\n",
        "\tat java.lang.reflect.Method.invoke(Method.java:606)\n",
        "\tat com.simontuffs.onejar.Boot.run(Boot.java:340)\n",
        "\tat com.simontuffs.onejar.Boot.main(Boot.java:166)\n",
        "Caused by: net.sf.samtools.util.RuntimeIOException: java.io.FileNotFoundException: ../data/RM8375/PGM/bam/IonXpress_001_R_2014_03_23_18_22_09_user_SN2-17-8375_Orthogonal_Measurement_1_Run_2_PacBioRef2.bam (No such file or directory)\n",
        "\tat net.sf.samtools.SAMFileReader.init(SAMFileReader.java:569)\n",
        "\tat net.sf.samtools.SAMFileReader.<init>(SAMFileReader.java:170)\n",
        "\tat net.sf.samtools.SAMFileReader.<init>(SAMFileReader.java:137)\n",
        "\tat org.broadinstitute.pilon.BamFile.reader(BamFile.scala:36)\n",
        "\tat org.broadinstitute.pilon.BamFile.<init>(BamFile.scala:43)\n",
        "\tat org.broadinstitute.pilon.Pilon$.optionParse(Pilon.scala:173)\n",
        "\tat org.broadinstitute.pilon.Pilon$.main(Pilon.scala:66)\n",
        "\tat org.broadinstitute.pilon.Pilon.main(Pilon.scala)\n",
        "\t... 6 more\n",
        "Caused by: java.io.FileNotFoundException: ../data/RM8375/PGM/bam/IonXpress_001_R_2014_03_23_18_22_09_user_SN2-17-8375_Orthogonal_Measurement_1_Run_2_PacBioRef2.bam (No such file or directory)\n",
        "\tat java.io.FileInputStream.open(Native Method)\n",
        "\tat java.io.FileInputStream.<init>(FileInputStream.java:146)\n",
        "\tat net.sf.samtools.SAMFileReader.init(SAMFileReader.java:536)\n",
        "\t... 13 more\n"
       ]
      }
     ],
     "prompt_number": 32
    },
    {
     "cell_type": "code",
     "collapsed": false,
     "input": [],
     "language": "python",
     "metadata": {},
     "outputs": []
    }
   ],
   "metadata": {}
  }
 ]
}