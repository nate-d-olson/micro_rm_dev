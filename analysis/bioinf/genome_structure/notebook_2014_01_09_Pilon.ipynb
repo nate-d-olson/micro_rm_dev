{
 "cells": [
  {
   "cell_type": "markdown",
   "metadata": {},
   "source": [
    "Running Pilon on MiSeq data mapped to Genbank LT2, HGAP_MiSeq Pilon, and HGAP_PGM Pilon references"
   ]
  },
  {
   "cell_type": "markdown",
   "metadata": {},
   "source": [
    "### Merging bams"
   ]
  },
  {
   "cell_type": "code",
   "execution_count": 10,
   "metadata": {
    "collapsed": true
   },
   "outputs": [],
   "source": [
    "%%bash\n",
    "ls ../sequence_purity/mapping_2015_01_09/HGAP_MiSeq*bam >HGAP_MiSeq.miseq.bams\n",
    "samtools merge -b HGAP_MiSeq.miseq.bams HGAP_MiSeq_merged.bam\n",
    "samtools index HGAP_MiSeq_merged.bam"
   ]
  },
  {
   "cell_type": "code",
   "execution_count": 12,
   "metadata": {
    "collapsed": true
   },
   "outputs": [],
   "source": [
    "%%bash\n",
    "ls ../sequence_purity/mapping_2015_01_09/HGAP_PGM*bam >HGAP_PGM.miseq.bams\n",
    "samtools merge -b HGAP_PGM.miseq.bams HGAP_PGM_miseq_merged.bam\n",
    "samtools index HGAP_PGM_miseq_merged.bam"
   ]
  },
  {
   "cell_type": "code",
   "execution_count": null,
   "metadata": {
    "collapsed": true
   },
   "outputs": [],
   "source": [
    "%%bash\n",
    "ls ../sequence_purity/mapping_2015_01_09/NC_003197.1*bam >HGAP_PGM.miseq.bams\n",
    "samtools merge -b HGAP_PGM.miseq.bams HGAP_PGM_miseq_merged.bam\n",
    "samtools index HGAP_PGM_miseq_merged.bam"
   ]
  },
  {
   "cell_type": "markdown",
   "metadata": {},
   "source": [
    "## Running Pilon on Merged bams"
   ]
  },
  {
   "cell_type": "code",
   "execution_count": 11,
   "metadata": {
    "collapsed": false
   },
   "outputs": [
    {
     "name": "stdout",
     "output_type": "stream",
     "text": [
      "Pilon version 1.10 Tue Nov 18 20:14:04 2014 -0500\n",
      "Genome: ../../../data/RM8375/ref/HGAP_MiSeq.fasta\n",
      "Fixing bases, gaps, local\n",
      "Input genome size: 4951418\n",
      "Scanning BAMs\n",
      "HGAP_MiSeq_merged.bam: 34493957 reads, 0 filtered, 34468442 mapped, 34419526 proper, 33184 stray, insert size 227+/-113\n",
      "Processing unitig_0|quiver|quiver|quiver|pilon:1-4857490\n",
      "frags HGAP_MiSeq_merged.bam: OpenJDK 64-Bit Server VM warning: INFO: os::commit_memory(0x00000007a3780000, 77070336, 0) failed; error='Cannot allocate memory' (errno=12)\n",
      "#\n",
      "# There is insufficient memory for the Java Runtime Environment to continue.\n",
      "# Native memory allocation (malloc) failed to allocate 77070336 bytes for committing reserved memory.\n",
      "# An error report file with more information is saved as:\n",
      "# /notebooks/analysis/bioinf/genome_structure/hs_err_pid60.log\n"
     ]
    }
   ],
   "source": [
    "%%bash\n",
    "java -Xmx8G -jar ../../../utilities/pilon-1.10.jar \\\n",
    "                --genome ../../../data/RM8375/ref/HGAP_MiSeq.fasta \\\n",
    "                --frags HGAP_MiSeq_merged.bam \\\n",
    "                --changes --vcf --tracks \\\n",
    "                --fix \"all\" --output HGAP_MiSeq.miseq"
   ]
  },
  {
   "cell_type": "code",
   "execution_count": null,
   "metadata": {
    "collapsed": true
   },
   "outputs": [],
   "source": [
    "started at 5:50 PM"
   ]
  },
  {
   "cell_type": "code",
   "execution_count": 8,
   "metadata": {
    "collapsed": false
   },
   "outputs": [],
   "source": [
    "%%bash\n",
    "java -Xmx8G -jar ../../../utilities/pilon-1.10.jar \\\n",
    "                --genome ../../../data/RM8375/ref/HGAP_PGM.fasta \\\n",
    "                --unpaired HGAP_PGM_miseq_merged.bam \\\n",
    "                --changes --vcf --tracks \\\n",
    "               --fix \"all\" --debug --output HGAP_PGM.miseq"
   ]
  },
  {
   "cell_type": "code",
   "execution_count": null,
   "metadata": {
    "collapsed": true
   },
   "outputs": [],
   "source": []
  }
 ],
 "metadata": {
  "kernelspec": {
   "display_name": "IPython (Python 3)",
   "name": "python3"
  },
  "language_info": {
   "codemirror_mode": {
    "name": "ipython",
    "version": 3
   },
   "file_extension": ".py",
   "mimetype": "text/x-python",
   "name": "python",
   "nbconvert_exporter": "python",
   "pygments_lexer": "ipython3"
  },
  "signature": "sha256:14622cc91c153e206fc0840ae8551440be9e945b66f8d881a63c1ce98470b426"
 },
 "nbformat": 4,
 "nbformat_minor": 0
}