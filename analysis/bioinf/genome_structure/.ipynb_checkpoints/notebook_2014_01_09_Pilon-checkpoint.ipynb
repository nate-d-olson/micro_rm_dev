{
 "cells": [
  {
   "cell_type": "markdown",
   "metadata": {},
   "source": [
    "Running Pilon on MiSeq data mapped to Genbank LT2, HGAP_MiSeq Pilon, and HGAP_PGM Pilon references"
   ]
  },
  {
   "cell_type": "markdown",
   "metadata": {},
   "source": [
    "### Merging bams"
   ]
  },
  {
   "cell_type": "code",
   "execution_count": null,
   "metadata": {
    "collapsed": true
   },
   "outputs": [],
   "source": [
    "%%bash\n",
    "ls ../sequence_purity/mapping_2015_01_09/HGAP_MiSeq*bam >HGAP_MiSeq.miseq.bams\n",
    "samtools merge -b HGAP_MiSeq.miseq.bams HGAP_MiSeq_merged.bam\n",
    "samtools index HGAP_MiSeq_merged.bam"
   ]
  },
  {
   "cell_type": "code",
   "execution_count": null,
   "metadata": {
    "collapsed": true
   },
   "outputs": [],
   "source": [
    "%%bash\n",
    "ls ../sequence_purity/mapping_2015_01_09/HGAP_PGM*bam >HGAP_PGM.miseq.bams\n",
    "samtools merge -b HGAP_PGM.miseq.bams HGAP_PGM_miseq_merged.bam\n",
    "samtools index HGAP_PGM_miseq_merged.bam"
   ]
  },
  {
   "cell_type": "code",
   "execution_count": null,
   "metadata": {
    "collapsed": true
   },
   "outputs": [],
   "source": [
    "%%bash\n",
    "ls ../sequence_purity/mapping_2015_01_09/NC_003197.1*bam >HGAP_PGM.miseq.bams\n",
    "samtools merge -b HGAP_PGM.miseq.bams HGAP_PGM_miseq_merged.bam\n",
    "samtools index HGAP_PGM_miseq_merged.bam"
   ]
  },
  {
   "cell_type": "markdown",
   "metadata": {},
   "source": [
    "## Running Pilon on Merged bams"
   ]
  },
  {
   "cell_type": "code",
   "execution_count": 7,
   "metadata": {
    "collapsed": false
   },
   "outputs": [],
   "source": [
    "%%bash\n",
    "#java -Xmx8G -jar ../../../utilities/pilon-1.10.jar \\\n",
    "#                --genome ../../../data/RM8375/ref/CFSAN008157.HGAP.fasta \\\n",
    "#                --frags ../../../dev/HGAP_MiSeq.bam \\\n",
    "#                --changes --vcf --tracks \\\n",
    "#                --fix \"all\" --debug --output HGAP_MiSeq"
   ]
  },
  {
   "cell_type": "code",
   "execution_count": 8,
   "metadata": {
    "collapsed": false
   },
   "outputs": [],
   "source": [
    "%%bash\n",
    "#java -Xmx8G -jar ../../../utilities/pilon-1.10.jar \\\n",
    "#                --genome ../../../data/RM8375/ref/CFSAN008157.HGAP.fasta \\\n",
    "#                --unpaired ../../../dev/HGAP_PGM.bam \\\n",
    "#                --changes --vcf --tracks \\\n",
    "#               --fix \"all\" --debug --output HGAP_PGM"
   ]
  },
  {
   "cell_type": "code",
   "execution_count": null,
   "metadata": {
    "collapsed": true
   },
   "outputs": [],
   "source": []
  }
 ],
 "metadata": {
  "kernelspec": {
   "display_name": "IPython (Python 3)",
   "name": "python3"
  },
  "language_info": {
   "codemirror_mode": {
    "name": "ipython",
    "version": 3
   },
   "file_extension": ".py",
   "mimetype": "text/x-python",
   "name": "python",
   "nbconvert_exporter": "python",
   "pygments_lexer": "ipython3"
  },
  "signature": "sha256:3487c0acf854f43d52a9a5f219c19dfa127ea30fa8b713a5e37d1a91e3f2ecda"
 },
 "nbformat": 4,
 "nbformat_minor": 0
}