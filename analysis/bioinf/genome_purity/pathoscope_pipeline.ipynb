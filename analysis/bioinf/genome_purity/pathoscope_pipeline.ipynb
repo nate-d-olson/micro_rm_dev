{
 "metadata": {
  "name": ""
 },
 "nbformat": 3,
 "nbformat_minor": 0,
 "worksheets": [
  {
   "cells": [
    {
     "cell_type": "markdown",
     "metadata": {},
     "source": [
      "## Pathoscope pipeline\n",
      "Objective: script for processing MiSeq and PGM data using pathoscope"
     ]
    },
    {
     "cell_type": "code",
     "collapsed": false,
     "input": [
      "import sys\n",
      "import time\n",
      "import subprocess"
     ],
     "language": "python",
     "metadata": {},
     "outputs": [],
     "prompt_number": 1
    },
    {
     "cell_type": "code",
     "collapsed": false,
     "input": [
      "def pathoqc_command(fastq1, out_dir, path_pathoqc, plat, thread_num, fastq2=False):\n",
      "    ## log file stores standard out\n",
      "    log_file = open(out_dir + \"/pathoqc\"+ time.strftime(\"-%Y-%m-%d-%H-%M-%S.log\"),'w')\n",
      "    stderr_file = open(out_dir + \"/pathoqc\"+ time.strftime(\"-%Y-%m-%d-%H-%M-%S.stder\"),'w')\n",
      "    \n",
      "    pathoqc_command = [\"python\",path_pathoqc]\n",
      "    \n",
      "    if fastq2:\n",
      "        pathoqc_command = pathoqc_command + ['-1',fastq1, '-2',fastq2,'-s',plat,'-p',str(thread_num),'-o',out_dir]\n",
      "        subprocess.call(pathoqc_command, stdout=log_file, stderr=stderr_file)\n",
      "    else:\n",
      "        pathoqc_command = pathoqc_command + ['-U',fastq1,'-s',plat,'-p',thread_num,'-o',out_dir]\n",
      "        subprocess.call(pathoqc_command, stdout=log_file, stderr=stderr_file)        "
     ],
     "language": "python",
     "metadata": {},
     "outputs": [],
     "prompt_number": 2
    },
    {
     "cell_type": "code",
     "collapsed": false,
     "input": [
      "def pathomap_command(ref_path, index_dir, fastq1, out_dir, path_pathoscope,fastq2=False):\n",
      "    import re\n",
      "    ## log file stores standard out\n",
      "    log_file = open(out_dir + \"/pathomap\"+time.strftime(\"-%Y-%m-%d-%H-%M-%S.log\"),'w')\n",
      "    stderr_file = open(out_dir + \"/pathomap\"+ time.strftime(\"-%Y-%m-%d-%H-%M-%S.stder\"),'w')\n",
      "    \n",
      "    ## output sam file\n",
      "    out_sam =  re.sub('[fastq,fq]', 'sam', fastq1)\n",
      "    \n",
      "    ## pathoscope command root\n",
      "    pathomap_command = [\"python\",path_pathoscope,'MAP','-targetRefFiles',ref_path,'-indexDir',index_dir,'-outDir',out_dir,'-outAlign', out_sam]\n",
      "    \n",
      "    if fastq2:\n",
      "        pathomap_command = pathomap_command + ['-1',fastq1, '-2',fastq2]\n",
      "        subprocess.call(pathomap_command, stdout=log_file,stderr=stderr_file)\n",
      "    else:\n",
      "        pathomap_command = pathomap_command + ['-U',fastq1]\n",
      "        subprocess.call(pathomap_command, stdout=log_file,stderr=stderr_file)"
     ],
     "language": "python",
     "metadata": {},
     "outputs": [],
     "prompt_number": 3
    },
    {
     "cell_type": "code",
     "collapsed": false,
     "input": [
      "def pathoid_command(input_sam, out_dir, ):\n",
      "    # command for running pathoid\n",
      "\n",
      "    ## log file stores standard out\n",
      "    log_file = open(out_dir + \"/pathoid\"+time.strftime(\"-%Y-%m-%d-%H-%M-%S.log\"),'w')\n",
      "    stderr_file = open(out_dir + \"/pathoid\"+ time.strftime(\"-%Y-%m-%d-%H-%M-%S.stder\"),'w')\n",
      "    \n",
      "    ## pathoscope command root\n",
      "    pathoid_command = [\"python\",path_pathoscope,'ID','-alignFile',input_sam,'-fileType',\n",
      "                       'sam','-outDir',out_dir,'--outMatrix']\n",
      "    subprocess.call(pathoid_command, stdout=log_file,stderr=stderr_file)"
     ],
     "language": "python",
     "metadata": {},
     "outputs": [],
     "prompt_number": 4
    }
   ],
   "metadata": {}
  }
 ]
}