{
 "metadata": {
  "name": ""
 },
 "nbformat": 3,
 "nbformat_minor": 0,
 "worksheets": [
  {
   "cells": [
    {
     "cell_type": "markdown",
     "metadata": {},
     "source": [
      "## Processing micro RM datasets\n",
      "Extracts run information from input file (format defined below) and runs pathoqc, map, and id.  pathoscope_pipeline.py includes code for running the three python modules.\n",
      "\n",
      "** Parameter File Description**\n",
      "Parameters and values seperated by '=', with each one individual lines in a file\n",
      "\n",
      "* qc_loc - path to pathoqc\n",
      "* path_loc - path to pathoscope.py\n",
      "* ref - location of reference sequence file\n",
      "* index_dir - directory with indexed reference files\n",
      "* analysis_out_dir - output directory for analysis\n",
      "* datasets - comma seperated list of SRR:plat for each dataset to run\n",
      "* n - number of threads to use\n",
      "* root_dir - project root directors - full system path"
     ]
    },
    {
     "cell_type": "code",
     "collapsed": false,
     "input": [
      "import sys\n",
      "from pathoscope_pipeline import * #need to place pathoscope_pipeline.py in directory"
     ],
     "language": "python",
     "metadata": {},
     "outputs": [],
     "prompt_number": 1
    },
    {
     "cell_type": "code",
     "collapsed": false,
     "input": [
      "def define_run_params(run_info,parameters):\n",
      "    # hash for storing run specific information\n",
      "    from collections import defaultdict\n",
      "    \n",
      "    run_params = defaultdict(str)\n",
      "    \n",
      "    run_info_list = run_info.split(\":\")\n",
      "    run_params['plat'] = run_info_list[1]\n",
      "    run_params['run_id'] = run_info_list[0]\n",
      "    \n",
      "    fastq_root = parameters['root_dir'] + parameters['fastq_dir'] + run_info_list[1] + '/'+ 'fastq'+'/'\n",
      "    if run_info_list[1] == \"MiSeq\":\n",
      "        run_params['fastq1'] = fastq_root + run_info_list[0] + \"_1.fastq\"\n",
      "        run_params['fastq2'] = fastq_root + run_info_list[0] + \"_2.fastq\"\n",
      "    else:\n",
      "        run_params['fastq1'] = fastq_root + run_info_list[0] + \".fastq\"\n",
      "        run_params['fastq2'] = None\n",
      "    \n",
      "    run_params['out_dir'] = parameters['root_dir'] + parameters['analysis_out_dir'] + '/' + run_params['run_id']\n",
      "    return run_params"
     ],
     "language": "python",
     "metadata": {},
     "outputs": [],
     "prompt_number": 2
    },
    {
     "cell_type": "code",
     "collapsed": false,
     "input": [
      "def run_pathoscope(run_params,patho_params):\n",
      "    import re\n",
      "    \n",
      "    # creating run directory\n",
      "    subprocess.call(['mkdir',run_params['out_dir']])\n",
      "    \n",
      "    # creating file with run parameters\n",
      "    run_log_file = open(run_params['out_dir']+\"/run_parameters.txt\", 'w')\n",
      "    for i in run_params.keys():\n",
      "        run_log_file.write(\"Parameter: %s\\tValue: %s\\n\" % (i, run_params[i]))\n",
      "    for i in patho_params.keys():\n",
      "        run_log_file.write(\"Parameter: %s\\tValue: %s\\n\" % (i, patho_params[i]))\n",
      "    run_log_file.close()\n",
      "    \n",
      "    ## running pathoqc\n",
      "    pathoqc_command(plat=run_params['plat'],fastq1=run_params['fastq1'],fastq2=run_params['fastq2'],\n",
      "                    out_dir=run_params['out_dir'],path_pathoqc=patho_params['root_dir']+patho_params['qc_loc'],thread_num= 8)#patho_params['n'])\n",
      "\n",
      "    ## running pathomap\n",
      "    if run_params['fastq2'] != None:\n",
      "        trimmed_fastq1 = run_params['out_dir'] + '/' + run_params['run_id'] + '_1_tr.fq'\n",
      "        trimmed_fastq2 = run_params['out_dir'] + '/' + run_params['run_id'] + '_2_tr.fq'\n",
      "    else:\n",
      "        trimmed_fastq1 = run_params['out_dir'] + '/' + run_params['run_id'] + '_tr.fq'\n",
      "        trimmed_fastq2 = None\n",
      "        \n",
      "    pathomap_command(ref_path=patho_params['root_dir']+patho_params['ref'],\n",
      "                     index_dir=patho_params['root_dir']+patho_params['index_dir'], \n",
      "                     exptag = run_params['run_id'], fastq1=trimmed_fastq1, fastq2=trimmed_fastq2, \n",
      "                     out_dir=run_params['out_dir'], path_pathoscope=patho_params['root_dir']+patho_params['patho_loc'])\n",
      "    \n",
      "    ## cleaning up pathomap files- removes find combined in appendAlign\n",
      "    # not sure why this is not working need to keep an eye on file sizes....\n",
      "#     cleanup_log = open(run_params['out_dir']+\"/\"+\"cleanup.log\",'w')\n",
      "#     cleanup_command = ['rm',run_params['out_dir']+\"/\"+run_params['run_id']+\"-\"+\n",
      "#                        re.sub('.fasta$|.fa$','',patho_params['ref'].split(\"/\")[-1])+'*sam']\n",
      "#     subprocess.call(cleanup_command, stdout=cleanup_log)\n",
      "    \n",
      "    ## running pathoid\n",
      "    pathomap_sam = run_params['out_dir']+\"/\" + run_params['run_id']+\"_tr.sam\"\n",
      "    pathoid_command(path_pathoscope=patho_params['root_dir']+patho_params['patho_loc'], input_sam=pathomap_sam, out_dir = run_params['out_dir'], exptag = run_params['run_id'])"
     ],
     "language": "python",
     "metadata": {},
     "outputs": [],
     "prompt_number": 10
    },
    {
     "cell_type": "code",
     "collapsed": false,
     "input": [
      "def read_dat(filename):\n",
      "    #process input file with configuration information\n",
      "    from collections import defaultdict\n",
      "    \n",
      "    parameters = defaultdict(str)\n",
      "    with open(filename,'r') as f:\n",
      "        for line in f:\n",
      "            param = line.strip().split(\"=\")\n",
      "            parameters[param[0]] = param[1]\n",
      "    return parameters"
     ],
     "language": "python",
     "metadata": {},
     "outputs": [],
     "prompt_number": 11
    },
    {
     "cell_type": "code",
     "collapsed": false,
     "input": [
      "def main(filename):\n",
      "    #read run parameters from input file and process using pathoscope\n",
      "    parameters = read_dat(filename)\n",
      "    \n",
      "    for i in parameters['datasets'].split(\",\"):\n",
      "        run_params = define_run_params(i,parameters)\n",
      "        print run_params\n",
      "        run_pathoscope(run_params, parameters)"
     ],
     "language": "python",
     "metadata": {},
     "outputs": [],
     "prompt_number": 12
    },
    {
     "cell_type": "code",
     "collapsed": false,
     "input": [
      "main(\"pathoscope_pipeline_params_test.txt\")"
     ],
     "language": "python",
     "metadata": {},
     "outputs": [
      {
       "output_type": "stream",
       "stream": "stdout",
       "text": [
        "defaultdict(<type 'str'>, {'fastq2': '/media/nolson/second/current_projects/micro_rm_dev/data/RM8375/MiSeq/fastq/SRR1555296_2.fastq', 'fastq1': '/media/nolson/second/current_projects/micro_rm_dev/data/RM8375/MiSeq/fastq/SRR1555296_1.fastq', 'run_id': 'SRR1555296', 'out_dir': '/media/nolson/second/current_projects/micro_rm_dev/analysis/bioinf/genome_purity/SRR1555296', 'plat': 'MiSeq'})\n",
        "defaultdict(<type 'str'>, {'fastq2': None, 'fastq1': '/media/nolson/second/current_projects/micro_rm_dev/data/RM8375/PGM/fastq/SRR1393721.fastq', 'run_id': 'SRR1393721', 'out_dir': '/media/nolson/second/current_projects/micro_rm_dev/analysis/bioinf/genome_purity/SRR1393721', 'plat': 'PGM'})"
       ]
      },
      {
       "output_type": "stream",
       "stream": "stdout",
       "text": [
        "\n"
       ]
      }
     ],
     "prompt_number": 7
    },
    {
     "cell_type": "markdown",
     "metadata": {},
     "source": [
      "Run started 12/5/2014 at 9:20 PM   \n",
      "On Monday check and make sure it ran then start full pipeline - error with appending map files, removed cleanup command  \n",
      "run_parameters not written to file"
     ]
    },
    {
     "cell_type": "code",
     "collapsed": false,
     "input": [
      "main(\"pathoscope_pipeline_params_test2.txt\")"
     ],
     "language": "python",
     "metadata": {},
     "outputs": [
      {
       "output_type": "stream",
       "stream": "stdout",
       "text": [
        "defaultdict(<type 'str'>, {'fastq2': None, 'fastq1': '/media/nolson/second/current_projects/micro_rm_dev/data/RM8375/PGM/fastq/SRR1393710_trim.fastq', 'run_id': 'SRR1393710_trim', 'out_dir': '/media/nolson/second/current_projects/micro_rm_dev/analysis/bioinf/genome_purity/SRR1393710_trim', 'plat': 'PGM'})\n"
       ]
      }
     ],
     "prompt_number": 13
    },
    {
     "cell_type": "markdown",
     "metadata": {},
     "source": [
      "To test for error with pathomap - appending the files\n",
      "removed cleanup command and created a 10000 line PGM fastq file\n",
      "file create using the command `head -n 10000 SRR1393710.fastq >> SRR1393710_trim.fastq`"
     ]
    },
    {
     "cell_type": "code",
     "collapsed": false,
     "input": [
      "if __name__ == '__main__':\n",
      "    main(sys.argv[1])"
     ],
     "language": "python",
     "metadata": {},
     "outputs": []
    }
   ],
   "metadata": {}
  }
 ]
}