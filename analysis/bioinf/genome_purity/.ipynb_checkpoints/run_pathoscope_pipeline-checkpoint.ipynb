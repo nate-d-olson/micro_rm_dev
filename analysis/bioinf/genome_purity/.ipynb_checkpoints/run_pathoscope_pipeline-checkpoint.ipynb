{
 "metadata": {
  "name": ""
 },
 "nbformat": 3,
 "nbformat_minor": 0,
 "worksheets": [
  {
   "cells": [
    {
     "cell_type": "markdown",
     "metadata": {},
     "source": [
      "## Processing micro RM datassets\n",
      "**Inputs** \n",
      "May want to look into using a json file\n",
      "1. parameter file with:\n",
      "    * qc_loc - path to pathoqc\n",
      "    * path_loc - path to pathoscope.py\n",
      "    * ref - location of reference sequence file\n",
      "    * index_dir - directory with indexed reference files\n",
      "    * analysis_out_dir - output directory for analysis\n",
      "    * datasets - comma seperated list of plat:SRR# for each dataset to run\n",
      "    * n - number of threads to use\n",
      "    * root_dir - project root directors - full system path"
     ]
    },
    {
     "cell_type": "code",
     "collapsed": false,
     "input": [
      "import sys\n",
      "from pathoscope_pipeline import * #need to place pathoscope_pipeline.py in directory"
     ],
     "language": "python",
     "metadata": {},
     "outputs": [],
     "prompt_number": 1
    },
    {
     "cell_type": "code",
     "collapsed": false,
     "input": [
      "def define_run_params(run_info,parameters):\n",
      "    # hash for storing run specific information\n",
      "    from collections import defaultdict\n",
      "    \n",
      "    run_params = defaultdict(str)\n",
      "    \n",
      "    run_info_list = run_info.split(\":\")\n",
      "    run_params['plat'] = run_info_list[0]\n",
      "    run_params['run_id'] = run_info_list[1]\n",
      "    \n",
      "    fastq_root = parameters['root_dir'] + parameters['fastq_dir'] + run_info_list[0] + '/'\n",
      "    if run_info_list[0] == \"MiSeq\":\n",
      "        run_params['fastq1'] = fastq_root + run_info_list[1] + \"_1.fastq\"\n",
      "        run_params['fastq2'] = fastq_root + run_info_list[1] + \"_2.fastq\"\n",
      "    else:\n",
      "        run_params['fastq1'] = fastq_root + run_info_list[1] + \".fastq\"\n",
      "        run_params['fastq2'] = None\n",
      "    \n",
      "    run_params['out_dir'] = parameters['root_dir'] + parameters['analysis_out_dir'] + '/' + run_params['run_id']\n",
      "    return run_params"
     ],
     "language": "python",
     "metadata": {},
     "outputs": [],
     "prompt_number": 2
    },
    {
     "cell_type": "code",
     "collapsed": false,
     "input": [
      "def run_pathoscope(run_params,patho_params):\n",
      "    import re\n",
      "    \n",
      "    # creating run directory\n",
      "    subprocess.call(['mkdir',run_params['out_dir']])\n",
      "    \n",
      "    #TODO - write file with pathoscope and run parameters\n",
      "    \n",
      "    \n",
      "    #running pathoqc\n",
      "    pathoqc_command(plat=run_params['plat'],fastq1=run_params['fastq1'],fastq2=run_params['fastq2'],\n",
      "                    out_dir=run_params['out_dir'],path_pathoqc=patho_params['root_dir']+patho_params['qc_loc'],thread_num= 8)#patho_params['n'])\n",
      "\n",
      "    #running pathomap\n",
      "    trimmed_fastq1 = re.sub('[fastq,fq]', '_tr.fq', run_params['fastq1'])\n",
      "    if run_params['fastq2'] != None:\n",
      "        trimmed_fastq2 = re.sub('[fastq,fq]', '_tr.fq', run_params['fastq2'])\n",
      "    else:\n",
      "        trimmed_fastq2 = None\n",
      "        \n",
      "    pathomap_command(ref_path=patho_params['root_dir']+patho_params['ref'],\n",
      "                     index_dir=patho_params['root_dir']+patho_params['index_dir'], \n",
      "                     exptag = run_params['run_id'], fastq1=trimmed_fastq1, fastq2=trimmed_fastq2, \n",
      "                     out_dir=run_params['out_dir'], path_pathoscope=patho_params['root_dir']+patho_params['patho_loc'])\n",
      "    \n",
      "    #cleaning up pathomap files- removes find combined in appendAlign\n",
      "    cleanup_log = open(run_params['out_dir']+\"cleanup.log\",'w')\n",
      "    cleanup_command = ['rm',run_params['out_dir']+\"/\"+run_params['run_id']+\"-\"+\n",
      "                       re.sub('[fasta,fa]','',patho_params['ref'])+'*sam']\n",
      "    subprocess.call(cleanup_command, stdout=cleanup_log)\n",
      "    \n",
      "    #running pathoid\n",
      "    pathomap_sam = run_params['out_dir']+run_params['run_id']+\"-appendAlign.sam\"\n",
      "    pathoid_command(path_pathoscope=patho_params['root_dir']+patho_params['patho_loc'], input_sam=pathomap_sam, out_dir = run_params['out_dir'], exptag = run_params['run_id'])"
     ],
     "language": "python",
     "metadata": {},
     "outputs": [],
     "prompt_number": 3
    },
    {
     "cell_type": "code",
     "collapsed": false,
     "input": [
      "def read_dat(filename):\n",
      "    #process input file with configuration information\n",
      "    from collections import defaultdict\n",
      "    \n",
      "    parameters = defaultdict(str)\n",
      "    with open(filename,'r') as f:\n",
      "        for line in f:\n",
      "            param = line.strip().split(\"=\")\n",
      "            parameters[param[1]] = param[0]\n",
      "    return parameters"
     ],
     "language": "python",
     "metadata": {},
     "outputs": [],
     "prompt_number": 4
    },
    {
     "cell_type": "code",
     "collapsed": false,
     "input": [
      "def main(filename):\n",
      "    #read run parameters from input file and process using pathoscope\n",
      "    parameters = read_dat(filename)\n",
      "    #parameters['n'] = int(parameters['n']) #not sure if this works or if it is necessary\n",
      "    \n",
      "    for i in parameters['datasets'].split(\",\"):\n",
      "        run_params = define_run_params(i,parameters)\n",
      "        print run_params\n",
      "        run_pathoscope(run_params, parameters)"
     ],
     "language": "python",
     "metadata": {},
     "outputs": [],
     "prompt_number": 5
    },
    {
     "cell_type": "code",
     "collapsed": false,
     "input": [
      "main(\"pathoscope_pipeline_params_test.txt\")"
     ],
     "language": "python",
     "metadata": {},
     "outputs": [
      {
       "output_type": "stream",
       "stream": "stdout",
       "text": [
        "defaultdict(<type 'str'>, {'fastq2': None, 'fastq1': '/media/nolson/second/current_projects/micro_rm_dev/data/RM8375/SRR1555296/MiSeq.fastq', 'run_id': 'MiSeq', 'out_dir': '/media/nolson/second/current_projects/micro_rm_dev/analysis/bioinf/genome_purity/MiSeq', 'plat': 'SRR1555296'})\n",
        "defaultdict(<type 'str'>, {'fastq2': None, 'fastq1': '/media/nolson/second/current_projects/micro_rm_dev/data/RM8375/SRR1393721/PGM.fastq', 'run_id': 'PGM', 'out_dir': '/media/nolson/second/current_projects/micro_rm_dev/analysis/bioinf/genome_purity/PGM', 'plat': 'SRR1393721'})"
       ]
      },
      {
       "output_type": "stream",
       "stream": "stdout",
       "text": [
        "\n"
       ]
      }
     ],
     "prompt_number": 6
    },
    {
     "cell_type": "markdown",
     "metadata": {},
     "source": [
      "* Started test run at 9:12 PM 12/4/2014\n",
      "* tomorrow \n",
      "    * check run\n",
      "    * write code for recording individual run parameters\n",
      "    * clean up output directory - put plat first or remove\n",
      "    * optimize - make sure using all 8 cores, or parallelize runs\n",
      "    * issue with defining the number of threads - change manually for now"
     ]
    },
    {
     "cell_type": "code",
     "collapsed": false,
     "input": [
      "if __name__ == '__main__':\n",
      "    main(sys.argv[1])"
     ],
     "language": "python",
     "metadata": {},
     "outputs": []
    }
   ],
   "metadata": {}
  }
 ]
}